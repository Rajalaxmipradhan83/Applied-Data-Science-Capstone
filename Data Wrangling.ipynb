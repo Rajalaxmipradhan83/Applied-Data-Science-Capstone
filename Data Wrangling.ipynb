{
 "cells": [
  {
   "cell_type": "code",
   "execution_count": null,
   "id": "e5469caf-ad40-4f51-b617-029442cda7b3",
   "metadata": {},
   "outputs": [],
   "source": [
    "Space X Falcon 9 First Stage Landing Prediction\n",
    "Lab 2: Data wrangling"
   ]
  },
  {
   "cell_type": "code",
   "execution_count": 2,
   "id": "c59dd15c-8614-4720-ab15-13c63dcd3e35",
   "metadata": {},
   "outputs": [
    {
     "name": "stdout",
     "output_type": "stream",
     "text": [
      "Collecting pandas\n",
      "  Downloading pandas-2.2.3-cp312-cp312-manylinux_2_17_x86_64.manylinux2014_x86_64.whl.metadata (89 kB)\n",
      "Collecting numpy>=1.26.0 (from pandas)\n",
      "  Downloading numpy-2.2.4-cp312-cp312-manylinux_2_17_x86_64.manylinux2014_x86_64.whl.metadata (62 kB)\n",
      "Requirement already satisfied: python-dateutil>=2.8.2 in /opt/conda/lib/python3.12/site-packages (from pandas) (2.9.0.post0)\n",
      "Requirement already satisfied: pytz>=2020.1 in /opt/conda/lib/python3.12/site-packages (from pandas) (2024.2)\n",
      "Collecting tzdata>=2022.7 (from pandas)\n",
      "  Downloading tzdata-2025.2-py2.py3-none-any.whl.metadata (1.4 kB)\n",
      "Requirement already satisfied: six>=1.5 in /opt/conda/lib/python3.12/site-packages (from python-dateutil>=2.8.2->pandas) (1.17.0)\n",
      "Downloading pandas-2.2.3-cp312-cp312-manylinux_2_17_x86_64.manylinux2014_x86_64.whl (12.7 MB)\n",
      "\u001b[2K   \u001b[90m━━━━━━━━━━━━━━━━━━━━━━━━━━━━━━━━━━━━━━━━\u001b[0m \u001b[32m12.7/12.7 MB\u001b[0m \u001b[31m35.3 MB/s\u001b[0m eta \u001b[36m0:00:00\u001b[0m:00:01\u001b[0m\n",
      "\u001b[?25hDownloading numpy-2.2.4-cp312-cp312-manylinux_2_17_x86_64.manylinux2014_x86_64.whl (16.1 MB)\n",
      "\u001b[2K   \u001b[90m━━━━━━━━━━━━━━━━━━━━━━━━━━━━━━━━━━━━━━━━\u001b[0m \u001b[32m16.1/16.1 MB\u001b[0m \u001b[31m42.5 MB/s\u001b[0m eta \u001b[36m0:00:00\u001b[0m:00:01\u001b[0m\n",
      "\u001b[?25hDownloading tzdata-2025.2-py2.py3-none-any.whl (347 kB)\n",
      "Installing collected packages: tzdata, numpy, pandas\n",
      "Successfully installed numpy-2.2.4 pandas-2.2.3 tzdata-2025.2\n",
      "Requirement already satisfied: numpy in /opt/conda/lib/python3.12/site-packages (2.2.4)\n"
     ]
    }
   ],
   "source": [
    "!pip install pandas\n",
    "!pip install numpy"
   ]
  },
  {
   "cell_type": "code",
   "execution_count": 4,
   "id": "7528a37e-3a6e-4921-ae9a-86539ff35eff",
   "metadata": {},
   "outputs": [
    {
     "name": "stdout",
     "output_type": "stream",
     "text": [
      "Missing values percentage:\n",
      " FlightNumber       0.000000\n",
      "Date               0.000000\n",
      "BoosterVersion     0.000000\n",
      "PayloadMass        0.000000\n",
      "Orbit              0.000000\n",
      "LaunchSite         0.000000\n",
      "Outcome            0.000000\n",
      "Flights            0.000000\n",
      "GridFins           0.000000\n",
      "Reused             0.000000\n",
      "Legs               0.000000\n",
      "LandingPad        28.888889\n",
      "Block              0.000000\n",
      "ReusedCount        0.000000\n",
      "Serial             0.000000\n",
      "Longitude          0.000000\n",
      "Latitude           0.000000\n",
      "dtype: float64\n",
      "\n",
      "Data types:\n",
      " FlightNumber        int64\n",
      "Date               object\n",
      "BoosterVersion     object\n",
      "PayloadMass       float64\n",
      "Orbit              object\n",
      "LaunchSite         object\n",
      "Outcome            object\n",
      "Flights             int64\n",
      "GridFins             bool\n",
      "Reused               bool\n",
      "Legs                 bool\n",
      "LandingPad         object\n",
      "Block             float64\n",
      "ReusedCount         int64\n",
      "Serial             object\n",
      "Longitude         float64\n",
      "Latitude          float64\n",
      "dtype: object\n",
      "\n",
      "Launch counts per site:\n",
      " LaunchSite\n",
      "CCAFS SLC 40    55\n",
      "KSC LC 39A      22\n",
      "VAFB SLC 4E     13\n",
      "Name: count, dtype: int64\n",
      "\n",
      "Orbit occurrence:\n",
      " Orbit\n",
      "GTO      27\n",
      "ISS      21\n",
      "VLEO     14\n",
      "PO        9\n",
      "LEO       7\n",
      "SSO       5\n",
      "MEO       3\n",
      "HEO       1\n",
      "ES-L1     1\n",
      "SO        1\n",
      "GEO       1\n",
      "Name: count, dtype: int64\n",
      "\n",
      "Landing outcomes:\n",
      " Outcome\n",
      "True ASDS      41\n",
      "None None      19\n",
      "True RTLS      14\n",
      "False ASDS      6\n",
      "True Ocean      5\n",
      "False Ocean     2\n",
      "None ASDS       2\n",
      "False RTLS      1\n",
      "Name: count, dtype: int64\n",
      "0 True ASDS\n",
      "1 None None\n",
      "2 True RTLS\n",
      "3 False ASDS\n",
      "4 True Ocean\n",
      "5 False Ocean\n",
      "6 None ASDS\n",
      "7 False RTLS\n",
      "\n",
      "First few rows with landing class:\n",
      "        Outcome  landing_class\n",
      "0    None None              1\n",
      "1    None None              1\n",
      "2    None None              1\n",
      "3  False Ocean              1\n",
      "4    None None              1\n",
      "\n",
      "Class column:\n",
      "    Class\n",
      "0      1\n",
      "1      1\n",
      "2      1\n",
      "3      1\n",
      "4      1\n",
      "5      1\n",
      "6      1\n",
      "7      1\n",
      "\n",
      "Updated dataset preview:\n",
      "    FlightNumber        Date BoosterVersion  PayloadMass Orbit    LaunchSite  \\\n",
      "0             1  2010-06-04       Falcon 9  6104.959412   LEO  CCAFS SLC 40   \n",
      "1             2  2012-05-22       Falcon 9   525.000000   LEO  CCAFS SLC 40   \n",
      "2             3  2013-03-01       Falcon 9   677.000000   ISS  CCAFS SLC 40   \n",
      "3             4  2013-09-29       Falcon 9   500.000000    PO   VAFB SLC 4E   \n",
      "4             5  2013-12-03       Falcon 9  3170.000000   GTO  CCAFS SLC 40   \n",
      "\n",
      "       Outcome  Flights  GridFins  Reused   Legs LandingPad  Block  \\\n",
      "0    None None        1     False   False  False        NaN    1.0   \n",
      "1    None None        1     False   False  False        NaN    1.0   \n",
      "2    None None        1     False   False  False        NaN    1.0   \n",
      "3  False Ocean        1     False   False  False        NaN    1.0   \n",
      "4    None None        1     False   False  False        NaN    1.0   \n",
      "\n",
      "   ReusedCount Serial   Longitude   Latitude  landing_class  Class  \n",
      "0            0  B0003  -80.577366  28.561857              1      1  \n",
      "1            0  B0005  -80.577366  28.561857              1      1  \n",
      "2            0  B0007  -80.577366  28.561857              1      1  \n",
      "3            0  B1003 -120.610829  34.632093              1      1  \n",
      "4            0  B1004  -80.577366  28.561857              1      1  \n",
      "\n",
      "Success rate: 1.0\n"
     ]
    }
   ],
   "source": [
    "import pandas as pd\n",
    "import numpy as np\n",
    "\n",
    "# Load the dataset\n",
    "df = pd.read_csv(\"https://cf-courses-data.s3.us.cloud-object-storage.appdomain.cloud/IBM-DS0321EN-SkillsNetwork/datasets/dataset_part_1.csv\")\n",
    "\n",
    "# Display the first 10 rows\n",
    "df.head(10)\n",
    "\n",
    "# Identify and calculate the percentage of missing values\n",
    "missing_values = df.isnull().sum() / len(df) * 100\n",
    "print(\"Missing values percentage:\\n\", missing_values)\n",
    "\n",
    "# Identify numerical and categorical columns\n",
    "print(\"\\nData types:\\n\", df.dtypes)\n",
    "\n",
    "# TASK 1: Calculate the number of launches on each site\n",
    "launch_counts = df[\"LaunchSite\"].value_counts()\n",
    "print(\"\\nLaunch counts per site:\\n\", launch_counts)\n",
    "\n",
    "# TASK 2: Calculate the number and occurrence of each orbit\n",
    "orbit_counts = df[\"Orbit\"].value_counts()\n",
    "print(\"\\nOrbit occurrence:\\n\", orbit_counts)\n",
    "\n",
    "# TASK 3: Calculate the number and occurrence of mission outcomes\n",
    "landing_outcomes = df[\"Outcome\"].value_counts()\n",
    "print(\"\\nLanding outcomes:\\n\", landing_outcomes)\n",
    "\n",
    "# Print each unique outcome with an index\n",
    "for i, outcome in enumerate(landing_outcomes.keys()):\n",
    "    print(i, outcome)\n",
    "\n",
    "# Define bad outcomes\n",
    "bad_outcome = {\n",
    "    'Failure (parachute)', 'Failure (drone ship)', 'Failure (ground pad)',\n",
    "    'Precluded (drone ship)', 'Precluded (ground pad)', 'Lost (drone ship)',\n",
    "    'Lost (ground pad)', 'No attempt', 'Uncontrolled (ocean)'\n",
    "}\n",
    "\n",
    "# TASK 4: Create a landing outcome label from Outcome column\n",
    "df[\"landing_class\"] = df[\"Outcome\"].apply(lambda x: 0 if x in bad_outcome else 1)\n",
    "\n",
    "# Display Outcome vs. landing_class\n",
    "print(\"\\nFirst few rows with landing class:\\n\", df[[\"Outcome\", \"landing_class\"]].head())\n",
    "\n",
    "# Assign landing_class to a new column 'Class'\n",
    "df['Class'] = df[\"landing_class\"]\n",
    "\n",
    "# Display first few rows of Class\n",
    "print(\"\\nClass column:\\n\", df[['Class']].head(8))\n",
    "\n",
    "# Display first 5 rows of the dataset\n",
    "print(\"\\nUpdated dataset preview:\\n\", df.head(5))\n",
    "\n",
    "# Determine success rate\n",
    "success_rate = df[\"Class\"].mean()\n",
    "print(\"\\nSuccess rate:\", success_rate)\n",
    "\n",
    "# Save the updated dataset\n",
    "df.to_csv(\"dataset_part_2.csv\", index=False)\n"
   ]
  },
  {
   "cell_type": "code",
   "execution_count": 6,
   "id": "bf689862-1625-478b-941a-c68c0782a621",
   "metadata": {},
   "outputs": [
    {
     "name": "stdout",
     "output_type": "stream",
     "text": [
      "Number of launches from CCAFS SLC 40: 55\n"
     ]
    }
   ],
   "source": [
    "# Count the number of launches per site\n",
    "launch_counts = df[\"LaunchSite\"].value_counts()\n",
    "\n",
    "# Display the number of launches from CCAFS SLC 40\n",
    "print(\"Number of launches from CCAFS SLC 40:\", launch_counts[\"CCAFS SLC 40\"])\n"
   ]
  },
  {
   "cell_type": "code",
   "execution_count": 7,
   "id": "74eb9cd6-c0fa-4dce-b2b8-32f6025ba0f5",
   "metadata": {},
   "outputs": [
    {
     "name": "stdout",
     "output_type": "stream",
     "text": [
      "Number of launches to geosynchronous orbit: 1\n"
     ]
    }
   ],
   "source": [
    "# Count the number of launches to geosynchronous orbit (GEO)\n",
    "geosynchronous_launches = df[df[\"Orbit\"] == \"GEO\"][\"LaunchSite\"].count()\n",
    "\n",
    "# Display the result\n",
    "print(\"Number of launches to geosynchronous orbit:\", geosynchronous_launches)\n"
   ]
  },
  {
   "cell_type": "code",
   "execution_count": 8,
   "id": "9c3a22df-862f-42dd-9c09-50526652f960",
   "metadata": {},
   "outputs": [
    {
     "name": "stdout",
     "output_type": "stream",
     "text": [
      "Number of successful drone ship landings: 0\n"
     ]
    }
   ],
   "source": [
    "# Count the number of successful missions that landed on a drone ship\n",
    "successful_drone_ship_landings = df[(df[\"Outcome\"] == \"Success (drone ship)\")][\"LaunchSite\"].count()\n",
    "\n",
    "# Display the result\n",
    "print(\"Number of successful drone ship landings:\", successful_drone_ship_landings)\n"
   ]
  },
  {
   "cell_type": "code",
   "execution_count": null,
   "id": "4a7d15d3-4770-4ed3-b95c-7b5957e10912",
   "metadata": {},
   "outputs": [],
   "source": []
  }
 ],
 "metadata": {
  "kernelspec": {
   "display_name": "Python 3 (ipykernel)",
   "language": "python",
   "name": "python3"
  },
  "language_info": {
   "codemirror_mode": {
    "name": "ipython",
    "version": 3
   },
   "file_extension": ".py",
   "mimetype": "text/x-python",
   "name": "python",
   "nbconvert_exporter": "python",
   "pygments_lexer": "ipython3",
   "version": "3.12.8"
  }
 },
 "nbformat": 4,
 "nbformat_minor": 5
}
