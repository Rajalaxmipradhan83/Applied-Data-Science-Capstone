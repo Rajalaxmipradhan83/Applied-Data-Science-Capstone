{
  "metadata": {
    "kernelspec": {
      "name": "python",
      "display_name": "Python (Pyodide)",
      "language": "python"
    },
    "language_info": {
      "codemirror_mode": {
        "name": "python",
        "version": 3
      },
      "file_extension": ".py",
      "mimetype": "text/x-python",
      "name": "python",
      "nbconvert_exporter": "python",
      "pygments_lexer": "ipython3",
      "version": "3.8"
    },
    "prev_pub_hash": "0f9db842b41c859223722809f8be602f5df9334348bd206b11e3af58c30eb345"
  },
  "nbformat_minor": 4,
  "nbformat": 4,
  "cells": [
    {
      "cell_type": "markdown",
      "source": "<p style=\"text-align:center\">\n    <a href=\"https://skills.network/?utm_medium=Exinfluencer&utm_source=Exinfluencer&utm_content=000026UJ&utm_term=10006555&utm_id=NA-SkillsNetwork-Channel-SkillsNetworkCoursesIBMDS0321ENSkillsNetwork26802033-2022-01-01\" target=\"_blank\">\n    <img src=\"https://cf-courses-data.s3.us.cloud-object-storage.appdomain.cloud/assets/logos/SN_web_lightmode.png\" width=\"200\" alt=\"Skills Network Logo\">\n    </a>\n</p>\n",
      "metadata": {}
    },
    {
      "cell_type": "markdown",
      "source": "# **Hands-on Lab: Interactive Visual Analytics with Folium**\n",
      "metadata": {}
    },
    {
      "cell_type": "markdown",
      "source": "Estimated time needed: **40** minutes\n",
      "metadata": {}
    },
    {
      "cell_type": "markdown",
      "source": "The launch success rate may depend on many factors such as payload mass, orbit type, and so on. It may also depend on the location and proximities of a launch site, i.e., the initial position of rocket trajectories. Finding an optimal location for building a launch site certainly involves many factors and hopefully we could discover some of the factors by analyzing the existing launch site locations.\n",
      "metadata": {}
    },
    {
      "cell_type": "markdown",
      "source": "In the previous exploratory data analysis labs, you have visualized the SpaceX launch dataset using `matplotlib` and `seaborn` and discovered some preliminary correlations between the launch site and success rates. In this lab, you will be performing more interactive visual analytics using `Folium`.\n",
      "metadata": {}
    },
    {
      "cell_type": "markdown",
      "source": "## Objectives\n",
      "metadata": {}
    },
    {
      "cell_type": "markdown",
      "source": "This lab contains the following tasks:\n\n*   **TASK 1:** Mark all launch sites on a map\n*   **TASK 2:** Mark the success/failed launches for each site on the map\n*   **TASK 3:** Calculate the distances between a launch site to its proximities\n\nAfter completed the above tasks, you should be able to find some geographical patterns about launch sites.\n",
      "metadata": {}
    },
    {
      "cell_type": "markdown",
      "source": "Let's first import required Python packages for this lab:\n",
      "metadata": {}
    },
    {
      "cell_type": "code",
      "source": "import piplite\nawait piplite.install(['folium'])\nawait piplite.install(['pandas'])",
      "metadata": {
        "trusted": true
      },
      "outputs": [],
      "execution_count": 1
    },
    {
      "cell_type": "code",
      "source": "import folium\nimport pandas as pd",
      "metadata": {
        "trusted": true
      },
      "outputs": [],
      "execution_count": 2
    },
    {
      "cell_type": "code",
      "source": "# Import folium MarkerCluster plugin\nfrom folium.plugins import MarkerCluster\n# Import folium MousePosition plugin\nfrom folium.plugins import MousePosition\n# Import folium DivIcon plugin\nfrom folium.features import DivIcon",
      "metadata": {
        "trusted": true
      },
      "outputs": [],
      "execution_count": 3
    },
    {
      "cell_type": "markdown",
      "source": "If you need to refresh your memory about folium, you may download and refer to this previous folium lab:\n",
      "metadata": {}
    },
    {
      "cell_type": "markdown",
      "source": "[Generating Maps with Python](https://cf-courses-data.s3.us.cloud-object-storage.appdomain.cloud/IBMDeveloperSkillsNetwork-DV0101EN-SkillsNetwork/labs/v4/DV0101EN-Exercise-Generating-Maps-in-Python.ipynb)\n",
      "metadata": {}
    },
    {
      "cell_type": "code",
      "source": "## Task 1: Mark all launch sites on a map\n\n# Sample data: List of launch sites with their coordinates\nlaunch_sites = pd.DataFrame([\n    {\"name\": \"Kennedy Space Center\", \"lat\": 28.5721, \"lon\": -80.6480},\n    {\"name\": \"Cape Canaveral Space Force Station\", \"lat\": 28.3922, \"lon\": -80.6077},\n    {\"name\": \"Vandenberg Space Force Base\", \"lat\": 34.6328, \"lon\": -120.6108},\n    {\"name\": \"Baikonur Cosmodrome\", \"lat\": 45.9647, \"lon\": 63.3050},\n    {\"name\": \"Tanegashima Space Center\", \"lat\": 30.4000, \"lon\": 130.9660}\n])\n\n# Initialize map centered around the first launch site\nmap_center = [launch_sites[\"lat\"].mean(), launch_sites[\"lon\"].mean()]\nm = folium.Map(location=map_center, zoom_start=3)\n\n# Add marker cluster\nmarker_cluster = MarkerCluster().add_to(m)\n\n# Add markers to the map\nfor _, site in launch_sites.iterrows():\n    folium.Marker(\n        location=[site[\"lat\"], site[\"lon\"]],\n        popup=site[\"name\"],\n        tooltip=site[\"name\"],\n        icon=folium.Icon(color=\"blue\", icon=\"rocket\", prefix=\"fa\")\n    ).add_to(marker_cluster)\n\n# Display map\nm\n",
      "metadata": {
        "trusted": true
      },
      "outputs": [
        {
          "execution_count": 4,
          "output_type": "execute_result",
          "data": {
            "text/plain": "<folium.folium.Map at 0x52ed558>",
            "text/html": "<div style=\"width:100%;\"><div style=\"position:relative;width:100%;height:0;padding-bottom:60%;\"><span style=\"color:#565656\">Make this Notebook Trusted to load map: File -> Trust Notebook</span><iframe srcdoc=\"&lt;!DOCTYPE html&gt;\n&lt;html&gt;\n&lt;head&gt;\n    \n    &lt;meta http-equiv=&quot;content-type&quot; content=&quot;text/html; charset=UTF-8&quot; /&gt;\n    \n        &lt;script&gt;\n            L_NO_TOUCH = false;\n            L_DISABLE_3D = false;\n        &lt;/script&gt;\n    \n    &lt;style&gt;html, body {width: 100%;height: 100%;margin: 0;padding: 0;}&lt;/style&gt;\n    &lt;style&gt;#map {position:absolute;top:0;bottom:0;right:0;left:0;}&lt;/style&gt;\n    &lt;script src=&quot;https://cdn.jsdelivr.net/npm/leaflet@1.9.3/dist/leaflet.js&quot;&gt;&lt;/script&gt;\n    &lt;script src=&quot;https://code.jquery.com/jquery-3.7.1.min.js&quot;&gt;&lt;/script&gt;\n    &lt;script src=&quot;https://cdn.jsdelivr.net/npm/bootstrap@5.2.2/dist/js/bootstrap.bundle.min.js&quot;&gt;&lt;/script&gt;\n    &lt;script src=&quot;https://cdnjs.cloudflare.com/ajax/libs/Leaflet.awesome-markers/2.0.2/leaflet.awesome-markers.js&quot;&gt;&lt;/script&gt;\n    &lt;link rel=&quot;stylesheet&quot; href=&quot;https://cdn.jsdelivr.net/npm/leaflet@1.9.3/dist/leaflet.css&quot;/&gt;\n    &lt;link rel=&quot;stylesheet&quot; href=&quot;https://cdn.jsdelivr.net/npm/bootstrap@5.2.2/dist/css/bootstrap.min.css&quot;/&gt;\n    &lt;link rel=&quot;stylesheet&quot; href=&quot;https://netdna.bootstrapcdn.com/bootstrap/3.0.0/css/bootstrap-glyphicons.css&quot;/&gt;\n    &lt;link rel=&quot;stylesheet&quot; href=&quot;https://cdn.jsdelivr.net/npm/@fortawesome/fontawesome-free@6.2.0/css/all.min.css&quot;/&gt;\n    &lt;link rel=&quot;stylesheet&quot; href=&quot;https://cdnjs.cloudflare.com/ajax/libs/Leaflet.awesome-markers/2.0.2/leaflet.awesome-markers.css&quot;/&gt;\n    &lt;link rel=&quot;stylesheet&quot; href=&quot;https://cdn.jsdelivr.net/gh/python-visualization/folium/folium/templates/leaflet.awesome.rotate.min.css&quot;/&gt;\n    \n            &lt;meta name=&quot;viewport&quot; content=&quot;width=device-width,\n                initial-scale=1.0, maximum-scale=1.0, user-scalable=no&quot; /&gt;\n            &lt;style&gt;\n                #map_aa9e128b0f09f70b4d7c443b0b7fd0e6 {\n                    position: relative;\n                    width: 100.0%;\n                    height: 100.0%;\n                    left: 0.0%;\n                    top: 0.0%;\n                }\n                .leaflet-container { font-size: 1rem; }\n            &lt;/style&gt;\n        \n    &lt;script src=&quot;https://cdnjs.cloudflare.com/ajax/libs/leaflet.markercluster/1.1.0/leaflet.markercluster.js&quot;&gt;&lt;/script&gt;\n    &lt;link rel=&quot;stylesheet&quot; href=&quot;https://cdnjs.cloudflare.com/ajax/libs/leaflet.markercluster/1.1.0/MarkerCluster.css&quot;/&gt;\n    &lt;link rel=&quot;stylesheet&quot; href=&quot;https://cdnjs.cloudflare.com/ajax/libs/leaflet.markercluster/1.1.0/MarkerCluster.Default.css&quot;/&gt;\n&lt;/head&gt;\n&lt;body&gt;\n    \n    \n            &lt;div class=&quot;folium-map&quot; id=&quot;map_aa9e128b0f09f70b4d7c443b0b7fd0e6&quot; &gt;&lt;/div&gt;\n        \n&lt;/body&gt;\n&lt;script&gt;\n    \n    \n            var map_aa9e128b0f09f70b4d7c443b0b7fd0e6 = L.map(\n                &quot;map_aa9e128b0f09f70b4d7c443b0b7fd0e6&quot;,\n                {\n                    center: [33.59236, -17.51909999999999],\n                    crs: L.CRS.EPSG3857,\n                    ...{\n  &quot;zoom&quot;: 3,\n  &quot;zoomControl&quot;: true,\n  &quot;preferCanvas&quot;: false,\n}\n\n                }\n            );\n\n            \n\n        \n    \n            var tile_layer_49d3902fb34d1310c306194b95d4b1a4 = L.tileLayer(\n                &quot;https://tile.openstreetmap.org/{z}/{x}/{y}.png&quot;,\n                {\n  &quot;minZoom&quot;: 0,\n  &quot;maxZoom&quot;: 19,\n  &quot;maxNativeZoom&quot;: 19,\n  &quot;noWrap&quot;: false,\n  &quot;attribution&quot;: &quot;\\u0026copy; \\u003ca href=\\&quot;https://www.openstreetmap.org/copyright\\&quot;\\u003eOpenStreetMap\\u003c/a\\u003e contributors&quot;,\n  &quot;subdomains&quot;: &quot;abc&quot;,\n  &quot;detectRetina&quot;: false,\n  &quot;tms&quot;: false,\n  &quot;opacity&quot;: 1,\n}\n\n            );\n        \n    \n            tile_layer_49d3902fb34d1310c306194b95d4b1a4.addTo(map_aa9e128b0f09f70b4d7c443b0b7fd0e6);\n        \n    \n            var marker_cluster_6e7f6fe728bba8ca8610d9865b5337b9 = L.markerClusterGroup(\n                {\n}\n            );\n        \n    \n            var marker_a300e0408751cc090ff210c364b17768 = L.marker(\n                [28.5721, -80.648],\n                {\n}\n            ).addTo(marker_cluster_6e7f6fe728bba8ca8610d9865b5337b9);\n        \n    \n            var icon_36ef3ae5d648cb9427dbe0b94c9ea864 = L.AwesomeMarkers.icon(\n                {\n  &quot;markerColor&quot;: &quot;blue&quot;,\n  &quot;iconColor&quot;: &quot;white&quot;,\n  &quot;icon&quot;: &quot;rocket&quot;,\n  &quot;prefix&quot;: &quot;fa&quot;,\n  &quot;extraClasses&quot;: &quot;fa-rotate-0&quot;,\n}\n            );\n        \n    \n        var popup_57ec129739ccfac403506fa17c823b62 = L.popup({\n  &quot;maxWidth&quot;: &quot;100%&quot;,\n});\n\n        \n            \n                var html_c5adf3ff983e61b87c3770b1a0f1e3b8 = $(`&lt;div id=&quot;html_c5adf3ff983e61b87c3770b1a0f1e3b8&quot; style=&quot;width: 100.0%; height: 100.0%;&quot;&gt;Kennedy Space Center&lt;/div&gt;`)[0];\n                popup_57ec129739ccfac403506fa17c823b62.setContent(html_c5adf3ff983e61b87c3770b1a0f1e3b8);\n            \n        \n\n        marker_a300e0408751cc090ff210c364b17768.bindPopup(popup_57ec129739ccfac403506fa17c823b62)\n        ;\n\n        \n    \n    \n            marker_a300e0408751cc090ff210c364b17768.bindTooltip(\n                `&lt;div&gt;\n                     Kennedy Space Center\n                 &lt;/div&gt;`,\n                {\n  &quot;sticky&quot;: true,\n}\n            );\n        \n    \n                marker_a300e0408751cc090ff210c364b17768.setIcon(icon_36ef3ae5d648cb9427dbe0b94c9ea864);\n            \n    \n            var marker_e86f1705645724c91350c1268ade477b = L.marker(\n                [28.3922, -80.6077],\n                {\n}\n            ).addTo(marker_cluster_6e7f6fe728bba8ca8610d9865b5337b9);\n        \n    \n            var icon_8d67f522dfb0d9a3d5c5deb32cdc5a7d = L.AwesomeMarkers.icon(\n                {\n  &quot;markerColor&quot;: &quot;blue&quot;,\n  &quot;iconColor&quot;: &quot;white&quot;,\n  &quot;icon&quot;: &quot;rocket&quot;,\n  &quot;prefix&quot;: &quot;fa&quot;,\n  &quot;extraClasses&quot;: &quot;fa-rotate-0&quot;,\n}\n            );\n        \n    \n        var popup_4a334a4d07fc982341dca17de854a52f = L.popup({\n  &quot;maxWidth&quot;: &quot;100%&quot;,\n});\n\n        \n            \n                var html_ab64aadc67f2fe8fb837ce975b6d15d5 = $(`&lt;div id=&quot;html_ab64aadc67f2fe8fb837ce975b6d15d5&quot; style=&quot;width: 100.0%; height: 100.0%;&quot;&gt;Cape Canaveral Space Force Station&lt;/div&gt;`)[0];\n                popup_4a334a4d07fc982341dca17de854a52f.setContent(html_ab64aadc67f2fe8fb837ce975b6d15d5);\n            \n        \n\n        marker_e86f1705645724c91350c1268ade477b.bindPopup(popup_4a334a4d07fc982341dca17de854a52f)\n        ;\n\n        \n    \n    \n            marker_e86f1705645724c91350c1268ade477b.bindTooltip(\n                `&lt;div&gt;\n                     Cape Canaveral Space Force Station\n                 &lt;/div&gt;`,\n                {\n  &quot;sticky&quot;: true,\n}\n            );\n        \n    \n                marker_e86f1705645724c91350c1268ade477b.setIcon(icon_8d67f522dfb0d9a3d5c5deb32cdc5a7d);\n            \n    \n            var marker_54718936cbac40ce619a6229ac52ae2c = L.marker(\n                [34.6328, -120.6108],\n                {\n}\n            ).addTo(marker_cluster_6e7f6fe728bba8ca8610d9865b5337b9);\n        \n    \n            var icon_a271aa5aa420b5fe57facf2fa4f0054c = L.AwesomeMarkers.icon(\n                {\n  &quot;markerColor&quot;: &quot;blue&quot;,\n  &quot;iconColor&quot;: &quot;white&quot;,\n  &quot;icon&quot;: &quot;rocket&quot;,\n  &quot;prefix&quot;: &quot;fa&quot;,\n  &quot;extraClasses&quot;: &quot;fa-rotate-0&quot;,\n}\n            );\n        \n    \n        var popup_6d732d35b75da10408d60f6bbfd0b91c = L.popup({\n  &quot;maxWidth&quot;: &quot;100%&quot;,\n});\n\n        \n            \n                var html_c416680879c15ce8ebbf491600655cdd = $(`&lt;div id=&quot;html_c416680879c15ce8ebbf491600655cdd&quot; style=&quot;width: 100.0%; height: 100.0%;&quot;&gt;Vandenberg Space Force Base&lt;/div&gt;`)[0];\n                popup_6d732d35b75da10408d60f6bbfd0b91c.setContent(html_c416680879c15ce8ebbf491600655cdd);\n            \n        \n\n        marker_54718936cbac40ce619a6229ac52ae2c.bindPopup(popup_6d732d35b75da10408d60f6bbfd0b91c)\n        ;\n\n        \n    \n    \n            marker_54718936cbac40ce619a6229ac52ae2c.bindTooltip(\n                `&lt;div&gt;\n                     Vandenberg Space Force Base\n                 &lt;/div&gt;`,\n                {\n  &quot;sticky&quot;: true,\n}\n            );\n        \n    \n                marker_54718936cbac40ce619a6229ac52ae2c.setIcon(icon_a271aa5aa420b5fe57facf2fa4f0054c);\n            \n    \n            var marker_7ab260aab8987adc3e9f4d8f45c60cf3 = L.marker(\n                [45.9647, 63.305],\n                {\n}\n            ).addTo(marker_cluster_6e7f6fe728bba8ca8610d9865b5337b9);\n        \n    \n            var icon_2b7009b3a88c5e3d9d6dc18e40fe29a7 = L.AwesomeMarkers.icon(\n                {\n  &quot;markerColor&quot;: &quot;blue&quot;,\n  &quot;iconColor&quot;: &quot;white&quot;,\n  &quot;icon&quot;: &quot;rocket&quot;,\n  &quot;prefix&quot;: &quot;fa&quot;,\n  &quot;extraClasses&quot;: &quot;fa-rotate-0&quot;,\n}\n            );\n        \n    \n        var popup_78869068d056e7c155449bfa00d48e3b = L.popup({\n  &quot;maxWidth&quot;: &quot;100%&quot;,\n});\n\n        \n            \n                var html_d5cfad888425860c60386140b438ee5e = $(`&lt;div id=&quot;html_d5cfad888425860c60386140b438ee5e&quot; style=&quot;width: 100.0%; height: 100.0%;&quot;&gt;Baikonur Cosmodrome&lt;/div&gt;`)[0];\n                popup_78869068d056e7c155449bfa00d48e3b.setContent(html_d5cfad888425860c60386140b438ee5e);\n            \n        \n\n        marker_7ab260aab8987adc3e9f4d8f45c60cf3.bindPopup(popup_78869068d056e7c155449bfa00d48e3b)\n        ;\n\n        \n    \n    \n            marker_7ab260aab8987adc3e9f4d8f45c60cf3.bindTooltip(\n                `&lt;div&gt;\n                     Baikonur Cosmodrome\n                 &lt;/div&gt;`,\n                {\n  &quot;sticky&quot;: true,\n}\n            );\n        \n    \n                marker_7ab260aab8987adc3e9f4d8f45c60cf3.setIcon(icon_2b7009b3a88c5e3d9d6dc18e40fe29a7);\n            \n    \n            var marker_50dfdd2abec827c5f144f882fe917555 = L.marker(\n                [30.4, 130.966],\n                {\n}\n            ).addTo(marker_cluster_6e7f6fe728bba8ca8610d9865b5337b9);\n        \n    \n            var icon_f4574ea22e89416598aa7116144c2753 = L.AwesomeMarkers.icon(\n                {\n  &quot;markerColor&quot;: &quot;blue&quot;,\n  &quot;iconColor&quot;: &quot;white&quot;,\n  &quot;icon&quot;: &quot;rocket&quot;,\n  &quot;prefix&quot;: &quot;fa&quot;,\n  &quot;extraClasses&quot;: &quot;fa-rotate-0&quot;,\n}\n            );\n        \n    \n        var popup_03bb2d21a47fab6e0179dd82fb6145e7 = L.popup({\n  &quot;maxWidth&quot;: &quot;100%&quot;,\n});\n\n        \n            \n                var html_393e62684e1f8e8a9fda934bdfab47be = $(`&lt;div id=&quot;html_393e62684e1f8e8a9fda934bdfab47be&quot; style=&quot;width: 100.0%; height: 100.0%;&quot;&gt;Tanegashima Space Center&lt;/div&gt;`)[0];\n                popup_03bb2d21a47fab6e0179dd82fb6145e7.setContent(html_393e62684e1f8e8a9fda934bdfab47be);\n            \n        \n\n        marker_50dfdd2abec827c5f144f882fe917555.bindPopup(popup_03bb2d21a47fab6e0179dd82fb6145e7)\n        ;\n\n        \n    \n    \n            marker_50dfdd2abec827c5f144f882fe917555.bindTooltip(\n                `&lt;div&gt;\n                     Tanegashima Space Center\n                 &lt;/div&gt;`,\n                {\n  &quot;sticky&quot;: true,\n}\n            );\n        \n    \n                marker_50dfdd2abec827c5f144f882fe917555.setIcon(icon_f4574ea22e89416598aa7116144c2753);\n            \n    \n            marker_cluster_6e7f6fe728bba8ca8610d9865b5337b9.addTo(map_aa9e128b0f09f70b4d7c443b0b7fd0e6);\n        \n&lt;/script&gt;\n&lt;/html&gt;\" style=\"position:absolute;width:100%;height:100%;left:0;top:0;border:none !important;\" allowfullscreen webkitallowfullscreen mozallowfullscreen></iframe></div></div>"
          },
          "metadata": {}
        }
      ],
      "execution_count": 4
    },
    {
      "cell_type": "markdown",
      "source": "First, let's try to add each site's location on a map using site's latitude and longitude coordinates\n",
      "metadata": {}
    },
    {
      "cell_type": "markdown",
      "source": "The following dataset with the name `spacex_launch_geo.csv` is an augmented dataset with latitude and longitude added for each site.\n",
      "metadata": {}
    },
    {
      "cell_type": "code",
      "source": "# Download and read the `spacex_launch_geo.csv`\nfrom js import fetch\nimport io\n\nURL = 'https://cf-courses-data.s3.us.cloud-object-storage.appdomain.cloud/IBM-DS0321EN-SkillsNetwork/datasets/spacex_launch_geo.csv'\nresp = await fetch(URL)\nspacex_csv_file = io.BytesIO((await resp.arrayBuffer()).to_py())\nspacex_df=pd.read_csv(spacex_csv_file)",
      "metadata": {
        "trusted": true
      },
      "outputs": [],
      "execution_count": 7
    },
    {
      "cell_type": "markdown",
      "source": "Now, you can take a look at what are the coordinates for each site.\n",
      "metadata": {}
    },
    {
      "cell_type": "code",
      "source": "# Select relevant sub-columns: `Launch Site`, `Lat(Latitude)`, `Long(Longitude)`, `class`\nspacex_df = spacex_df[['Launch Site', 'Lat', 'Long', 'class']]\nlaunch_sites_df = spacex_df.groupby(['Launch Site'], as_index=False).first()\nlaunch_sites_df = launch_sites_df[['Launch Site', 'Lat', 'Long']]\nlaunch_sites_df",
      "metadata": {
        "trusted": true
      },
      "outputs": [
        {
          "execution_count": 6,
          "output_type": "execute_result",
          "data": {
            "text/plain": "    Launch Site        Lat        Long\n0   CCAFS LC-40  28.562302  -80.577356\n1  CCAFS SLC-40  28.563197  -80.576820\n2    KSC LC-39A  28.573255  -80.646895\n3   VAFB SLC-4E  34.632834 -120.610745",
            "text/html": "<div>\n<style scoped>\n    .dataframe tbody tr th:only-of-type {\n        vertical-align: middle;\n    }\n\n    .dataframe tbody tr th {\n        vertical-align: top;\n    }\n\n    .dataframe thead th {\n        text-align: right;\n    }\n</style>\n<table border=\"1\" class=\"dataframe\">\n  <thead>\n    <tr style=\"text-align: right;\">\n      <th></th>\n      <th>Launch Site</th>\n      <th>Lat</th>\n      <th>Long</th>\n    </tr>\n  </thead>\n  <tbody>\n    <tr>\n      <th>0</th>\n      <td>CCAFS LC-40</td>\n      <td>28.562302</td>\n      <td>-80.577356</td>\n    </tr>\n    <tr>\n      <th>1</th>\n      <td>CCAFS SLC-40</td>\n      <td>28.563197</td>\n      <td>-80.576820</td>\n    </tr>\n    <tr>\n      <th>2</th>\n      <td>KSC LC-39A</td>\n      <td>28.573255</td>\n      <td>-80.646895</td>\n    </tr>\n    <tr>\n      <th>3</th>\n      <td>VAFB SLC-4E</td>\n      <td>34.632834</td>\n      <td>-120.610745</td>\n    </tr>\n  </tbody>\n</table>\n</div>"
          },
          "metadata": {}
        }
      ],
      "execution_count": 6
    },
    {
      "cell_type": "markdown",
      "source": "Above coordinates are just plain numbers that can not give you any intuitive insights about where are those launch sites. If you are very good at geography, you can interpret those numbers directly in your mind. If not, that's fine too. Let's visualize those locations by pinning them on a map.\n",
      "metadata": {}
    },
    {
      "cell_type": "markdown",
      "source": "We first need to create a folium `Map` object, with an initial center location to be NASA Johnson Space Center at Houston, Texas.\n",
      "metadata": {}
    },
    {
      "cell_type": "code",
      "source": "# Start location is NASA Johnson Space Center\nnasa_coordinate = [29.559684888503615, -95.0830971930759]\nsite_map = folium.Map(location=nasa_coordinate, zoom_start=10)",
      "metadata": {
        "trusted": true
      },
      "outputs": [],
      "execution_count": 8
    },
    {
      "cell_type": "markdown",
      "source": "We could use `folium.Circle` to add a highlighted circle area with a text label on a specific coordinate. For example,\n",
      "metadata": {}
    },
    {
      "cell_type": "code",
      "source": "# Create a blue circle at NASA Johnson Space Center's coordinate with a popup label showing its name\ncircle = folium.Circle(nasa_coordinate, radius=1000, color='#d35400', fill=True).add_child(folium.Popup('NASA Johnson Space Center'))\n# Create a blue circle at NASA Johnson Space Center's coordinate with a icon showing its name\nmarker = folium.map.Marker(\n    nasa_coordinate,\n    # Create an icon as a text label\n    icon=DivIcon(\n        icon_size=(20,20),\n        icon_anchor=(0,0),\n        html='<div style=\"font-size: 12; color:#d35400;\"><b>%s</b></div>' % 'NASA JSC',\n        )\n    )\nsite_map.add_child(circle)\nsite_map.add_child(marker)",
      "metadata": {
        "trusted": true
      },
      "outputs": [
        {
          "execution_count": 9,
          "output_type": "execute_result",
          "data": {
            "text/plain": "<folium.folium.Map at 0x4f66938>",
            "text/html": "<div style=\"width:100%;\"><div style=\"position:relative;width:100%;height:0;padding-bottom:60%;\"><span style=\"color:#565656\">Make this Notebook Trusted to load map: File -> Trust Notebook</span><iframe srcdoc=\"&lt;!DOCTYPE html&gt;\n&lt;html&gt;\n&lt;head&gt;\n    \n    &lt;meta http-equiv=&quot;content-type&quot; content=&quot;text/html; charset=UTF-8&quot; /&gt;\n    \n        &lt;script&gt;\n            L_NO_TOUCH = false;\n            L_DISABLE_3D = false;\n        &lt;/script&gt;\n    \n    &lt;style&gt;html, body {width: 100%;height: 100%;margin: 0;padding: 0;}&lt;/style&gt;\n    &lt;style&gt;#map {position:absolute;top:0;bottom:0;right:0;left:0;}&lt;/style&gt;\n    &lt;script src=&quot;https://cdn.jsdelivr.net/npm/leaflet@1.9.3/dist/leaflet.js&quot;&gt;&lt;/script&gt;\n    &lt;script src=&quot;https://code.jquery.com/jquery-3.7.1.min.js&quot;&gt;&lt;/script&gt;\n    &lt;script src=&quot;https://cdn.jsdelivr.net/npm/bootstrap@5.2.2/dist/js/bootstrap.bundle.min.js&quot;&gt;&lt;/script&gt;\n    &lt;script src=&quot;https://cdnjs.cloudflare.com/ajax/libs/Leaflet.awesome-markers/2.0.2/leaflet.awesome-markers.js&quot;&gt;&lt;/script&gt;\n    &lt;link rel=&quot;stylesheet&quot; href=&quot;https://cdn.jsdelivr.net/npm/leaflet@1.9.3/dist/leaflet.css&quot;/&gt;\n    &lt;link rel=&quot;stylesheet&quot; href=&quot;https://cdn.jsdelivr.net/npm/bootstrap@5.2.2/dist/css/bootstrap.min.css&quot;/&gt;\n    &lt;link rel=&quot;stylesheet&quot; href=&quot;https://netdna.bootstrapcdn.com/bootstrap/3.0.0/css/bootstrap-glyphicons.css&quot;/&gt;\n    &lt;link rel=&quot;stylesheet&quot; href=&quot;https://cdn.jsdelivr.net/npm/@fortawesome/fontawesome-free@6.2.0/css/all.min.css&quot;/&gt;\n    &lt;link rel=&quot;stylesheet&quot; href=&quot;https://cdnjs.cloudflare.com/ajax/libs/Leaflet.awesome-markers/2.0.2/leaflet.awesome-markers.css&quot;/&gt;\n    &lt;link rel=&quot;stylesheet&quot; href=&quot;https://cdn.jsdelivr.net/gh/python-visualization/folium/folium/templates/leaflet.awesome.rotate.min.css&quot;/&gt;\n    \n            &lt;meta name=&quot;viewport&quot; content=&quot;width=device-width,\n                initial-scale=1.0, maximum-scale=1.0, user-scalable=no&quot; /&gt;\n            &lt;style&gt;\n                #map_6c425332fc52d83fa8c3b67c45e702cb {\n                    position: relative;\n                    width: 100.0%;\n                    height: 100.0%;\n                    left: 0.0%;\n                    top: 0.0%;\n                }\n                .leaflet-container { font-size: 1rem; }\n            &lt;/style&gt;\n        \n&lt;/head&gt;\n&lt;body&gt;\n    \n    \n            &lt;div class=&quot;folium-map&quot; id=&quot;map_6c425332fc52d83fa8c3b67c45e702cb&quot; &gt;&lt;/div&gt;\n        \n&lt;/body&gt;\n&lt;script&gt;\n    \n    \n            var map_6c425332fc52d83fa8c3b67c45e702cb = L.map(\n                &quot;map_6c425332fc52d83fa8c3b67c45e702cb&quot;,\n                {\n                    center: [29.559684888503615, -95.0830971930759],\n                    crs: L.CRS.EPSG3857,\n                    ...{\n  &quot;zoom&quot;: 10,\n  &quot;zoomControl&quot;: true,\n  &quot;preferCanvas&quot;: false,\n}\n\n                }\n            );\n\n            \n\n        \n    \n            var tile_layer_d26044c5c29595a4692f12e7350496df = L.tileLayer(\n                &quot;https://tile.openstreetmap.org/{z}/{x}/{y}.png&quot;,\n                {\n  &quot;minZoom&quot;: 0,\n  &quot;maxZoom&quot;: 19,\n  &quot;maxNativeZoom&quot;: 19,\n  &quot;noWrap&quot;: false,\n  &quot;attribution&quot;: &quot;\\u0026copy; \\u003ca href=\\&quot;https://www.openstreetmap.org/copyright\\&quot;\\u003eOpenStreetMap\\u003c/a\\u003e contributors&quot;,\n  &quot;subdomains&quot;: &quot;abc&quot;,\n  &quot;detectRetina&quot;: false,\n  &quot;tms&quot;: false,\n  &quot;opacity&quot;: 1,\n}\n\n            );\n        \n    \n            tile_layer_d26044c5c29595a4692f12e7350496df.addTo(map_6c425332fc52d83fa8c3b67c45e702cb);\n        \n    \n            var circle_f09edb08ad467b18db00987fb00b36ed = L.circle(\n                [29.559684888503615, -95.0830971930759],\n                {&quot;bubblingMouseEvents&quot;: true, &quot;color&quot;: &quot;#d35400&quot;, &quot;dashArray&quot;: null, &quot;dashOffset&quot;: null, &quot;fill&quot;: true, &quot;fillColor&quot;: &quot;#d35400&quot;, &quot;fillOpacity&quot;: 0.2, &quot;fillRule&quot;: &quot;evenodd&quot;, &quot;lineCap&quot;: &quot;round&quot;, &quot;lineJoin&quot;: &quot;round&quot;, &quot;opacity&quot;: 1.0, &quot;radius&quot;: 1000, &quot;stroke&quot;: true, &quot;weight&quot;: 3}\n            ).addTo(map_6c425332fc52d83fa8c3b67c45e702cb);\n        \n    \n        var popup_088f3ca8096781bfbce44d778e4bf600 = L.popup({\n  &quot;maxWidth&quot;: &quot;100%&quot;,\n});\n\n        \n            \n                var html_2212da5b38ed59f40b59eb1016414a43 = $(`&lt;div id=&quot;html_2212da5b38ed59f40b59eb1016414a43&quot; style=&quot;width: 100.0%; height: 100.0%;&quot;&gt;NASA Johnson Space Center&lt;/div&gt;`)[0];\n                popup_088f3ca8096781bfbce44d778e4bf600.setContent(html_2212da5b38ed59f40b59eb1016414a43);\n            \n        \n\n        circle_f09edb08ad467b18db00987fb00b36ed.bindPopup(popup_088f3ca8096781bfbce44d778e4bf600)\n        ;\n\n        \n    \n    \n            var marker_6da33b21e01f8427debec86339b9dc43 = L.marker(\n                [29.559684888503615, -95.0830971930759],\n                {\n}\n            ).addTo(map_6c425332fc52d83fa8c3b67c45e702cb);\n        \n    \n            var div_icon_6d0ac027e30d74bbe79d5c6ccacecb34 = L.divIcon({\n  &quot;html&quot;: &quot;\\u003cdiv style=\\&quot;font-size: 12; color:#d35400;\\&quot;\\u003e\\u003cb\\u003eNASA JSC\\u003c/b\\u003e\\u003c/div\\u003e&quot;,\n  &quot;iconSize&quot;: [20, 20],\n  &quot;iconAnchor&quot;: [0, 0],\n  &quot;className&quot;: &quot;empty&quot;,\n});\n            marker_6da33b21e01f8427debec86339b9dc43.setIcon(div_icon_6d0ac027e30d74bbe79d5c6ccacecb34);\n        \n    \n                marker_6da33b21e01f8427debec86339b9dc43.setIcon(div_icon_6d0ac027e30d74bbe79d5c6ccacecb34);\n            \n&lt;/script&gt;\n&lt;/html&gt;\" style=\"position:absolute;width:100%;height:100%;left:0;top:0;border:none !important;\" allowfullscreen webkitallowfullscreen mozallowfullscreen></iframe></div></div>"
          },
          "metadata": {}
        }
      ],
      "execution_count": 9
    },
    {
      "cell_type": "markdown",
      "source": "and you should find a small yellow circle near the city of Houston and you can zoom-in to see a larger circle.\n",
      "metadata": {}
    },
    {
      "cell_type": "markdown",
      "source": "Now, let's add a circle for each launch site in data frame `launch_sites`\n",
      "metadata": {}
    },
    {
      "cell_type": "markdown",
      "source": "*TODO:*  Create and add `folium.Circle` and `folium.Marker` for each launch site on the site map\n",
      "metadata": {}
    },
    {
      "cell_type": "markdown",
      "source": "An example of folium.Circle:\n",
      "metadata": {}
    },
    {
      "cell_type": "markdown",
      "source": "`folium.Circle(coordinate, radius=1000, color='#000000', fill=True).add_child(folium.Popup(...))`\n",
      "metadata": {}
    },
    {
      "cell_type": "markdown",
      "source": "An example of folium.Marker:\n",
      "metadata": {}
    },
    {
      "cell_type": "markdown",
      "source": "`folium.map.Marker(coordinate, icon=DivIcon(icon_size=(20,20),icon_anchor=(0,0), html='<div style=\"font-size: 12; color:#d35400;\"><b>%s</b></div>' % 'label', ))`\n",
      "metadata": {}
    },
    {
      "cell_type": "code",
      "source": "# Initial the map\nsite_map = folium.Map(location=nasa_coordinate, zoom_start=5)\n# For each launch site, add a Circle object based on its coordinate (Lat, Long) values. In addition, add Launch site name as a popup label\n",
      "metadata": {
        "trusted": true
      },
      "outputs": [],
      "execution_count": 10
    },
    {
      "cell_type": "markdown",
      "source": "The generated map with marked launch sites should look similar to the following:\n",
      "metadata": {}
    },
    {
      "cell_type": "markdown",
      "source": "<center>\n    <img src=\"https://cf-courses-data.s3.us.cloud-object-storage.appdomain.cloud/IBM-DS0321EN-SkillsNetwork/labs/module_3/images/launch_site_markers.png\">\n</center>\n",
      "metadata": {}
    },
    {
      "cell_type": "markdown",
      "source": "Now, you can explore the map by zoom-in/out the marked areas\n, and try to answer the following questions:\n\n*   Are all launch sites in proximity to the Equator line?\n*   Are all launch sites in very close proximity to the coast?\n\nAlso please try to explain your findings.\n",
      "metadata": {}
    },
    {
      "cell_type": "code",
      "source": "# Task 2: Mark the success/failed launches for each site on the map\n# Sample launch data with outcomes\nlaunch_data = pd.DataFrame([\n    {\"site\": \"Kennedy Space Center\", \"lat\": 28.5721, \"lon\": -80.6480, \"outcome\": \"Success\"},\n    {\"site\": \"Kennedy Space Center\", \"lat\": 28.5721, \"lon\": -80.6480, \"outcome\": \"Failure\"},\n    {\"site\": \"Cape Canaveral\", \"lat\": 28.3922, \"lon\": -80.6077, \"outcome\": \"Success\"},\n    {\"site\": \"Cape Canaveral\", \"lat\": 28.3922, \"lon\": -80.6077, \"outcome\": \"Failure\"},\n    {\"site\": \"Vandenberg SFB\", \"lat\": 34.6328, \"lon\": -120.6108, \"outcome\": \"Success\"},\n    {\"site\": \"Baikonur Cosmodrome\", \"lat\": 45.9647, \"lon\": 63.3050, \"outcome\": \"Failure\"},\n    {\"site\": \"Tanegashima Space Center\", \"lat\": 30.4000, \"lon\": 130.9660, \"outcome\": \"Success\"}\n])\n\n# Initialize map centered around the first launch site\nmap_center = [launch_data[\"lat\"].mean(), launch_data[\"lon\"].mean()]\nm = folium.Map(location=map_center, zoom_start=3)\n\n# Add marker cluster\nmarker_cluster = MarkerCluster().add_to(m)\n\n# Define colors for success and failure\ncolor_map = {\"Success\": \"green\", \"Failure\": \"red\"}\n\n# Add markers to the map\nfor _, launch in launch_data.iterrows():\n    folium.Marker(\n        location=[launch[\"lat\"], launch[\"lon\"]],\n        popup=f\"{launch['site']} - {launch['outcome']}\",\n        tooltip=f\"{launch['site']} ({launch['outcome']})\",\n        icon=folium.Icon(color=color_map[launch[\"outcome\"]], icon=\"rocket\", prefix=\"fa\")\n    ).add_to(marker_cluster)\n\n# Display map\nm\n",
      "metadata": {
        "trusted": true
      },
      "outputs": [
        {
          "execution_count": 11,
          "output_type": "execute_result",
          "data": {
            "text/plain": "<folium.folium.Map at 0x5cae910>",
            "text/html": "<div style=\"width:100%;\"><div style=\"position:relative;width:100%;height:0;padding-bottom:60%;\"><span style=\"color:#565656\">Make this Notebook Trusted to load map: File -> Trust Notebook</span><iframe srcdoc=\"&lt;!DOCTYPE html&gt;\n&lt;html&gt;\n&lt;head&gt;\n    \n    &lt;meta http-equiv=&quot;content-type&quot; content=&quot;text/html; charset=UTF-8&quot; /&gt;\n    \n        &lt;script&gt;\n            L_NO_TOUCH = false;\n            L_DISABLE_3D = false;\n        &lt;/script&gt;\n    \n    &lt;style&gt;html, body {width: 100%;height: 100%;margin: 0;padding: 0;}&lt;/style&gt;\n    &lt;style&gt;#map {position:absolute;top:0;bottom:0;right:0;left:0;}&lt;/style&gt;\n    &lt;script src=&quot;https://cdn.jsdelivr.net/npm/leaflet@1.9.3/dist/leaflet.js&quot;&gt;&lt;/script&gt;\n    &lt;script src=&quot;https://code.jquery.com/jquery-3.7.1.min.js&quot;&gt;&lt;/script&gt;\n    &lt;script src=&quot;https://cdn.jsdelivr.net/npm/bootstrap@5.2.2/dist/js/bootstrap.bundle.min.js&quot;&gt;&lt;/script&gt;\n    &lt;script src=&quot;https://cdnjs.cloudflare.com/ajax/libs/Leaflet.awesome-markers/2.0.2/leaflet.awesome-markers.js&quot;&gt;&lt;/script&gt;\n    &lt;link rel=&quot;stylesheet&quot; href=&quot;https://cdn.jsdelivr.net/npm/leaflet@1.9.3/dist/leaflet.css&quot;/&gt;\n    &lt;link rel=&quot;stylesheet&quot; href=&quot;https://cdn.jsdelivr.net/npm/bootstrap@5.2.2/dist/css/bootstrap.min.css&quot;/&gt;\n    &lt;link rel=&quot;stylesheet&quot; href=&quot;https://netdna.bootstrapcdn.com/bootstrap/3.0.0/css/bootstrap-glyphicons.css&quot;/&gt;\n    &lt;link rel=&quot;stylesheet&quot; href=&quot;https://cdn.jsdelivr.net/npm/@fortawesome/fontawesome-free@6.2.0/css/all.min.css&quot;/&gt;\n    &lt;link rel=&quot;stylesheet&quot; href=&quot;https://cdnjs.cloudflare.com/ajax/libs/Leaflet.awesome-markers/2.0.2/leaflet.awesome-markers.css&quot;/&gt;\n    &lt;link rel=&quot;stylesheet&quot; href=&quot;https://cdn.jsdelivr.net/gh/python-visualization/folium/folium/templates/leaflet.awesome.rotate.min.css&quot;/&gt;\n    \n            &lt;meta name=&quot;viewport&quot; content=&quot;width=device-width,\n                initial-scale=1.0, maximum-scale=1.0, user-scalable=no&quot; /&gt;\n            &lt;style&gt;\n                #map_dee51ea6c67e0bc8e4c66591fcf770bd {\n                    position: relative;\n                    width: 100.0%;\n                    height: 100.0%;\n                    left: 0.0%;\n                    top: 0.0%;\n                }\n                .leaflet-container { font-size: 1rem; }\n            &lt;/style&gt;\n        \n    &lt;script src=&quot;https://cdnjs.cloudflare.com/ajax/libs/leaflet.markercluster/1.1.0/leaflet.markercluster.js&quot;&gt;&lt;/script&gt;\n    &lt;link rel=&quot;stylesheet&quot; href=&quot;https://cdnjs.cloudflare.com/ajax/libs/leaflet.markercluster/1.1.0/MarkerCluster.css&quot;/&gt;\n    &lt;link rel=&quot;stylesheet&quot; href=&quot;https://cdnjs.cloudflare.com/ajax/libs/leaflet.markercluster/1.1.0/MarkerCluster.Default.css&quot;/&gt;\n&lt;/head&gt;\n&lt;body&gt;\n    \n    \n            &lt;div class=&quot;folium-map&quot; id=&quot;map_dee51ea6c67e0bc8e4c66591fcf770bd&quot; &gt;&lt;/div&gt;\n        \n&lt;/body&gt;\n&lt;script&gt;\n    \n    \n            var map_dee51ea6c67e0bc8e4c66591fcf770bd = L.map(\n                &quot;map_dee51ea6c67e0bc8e4c66591fcf770bd&quot;,\n                {\n                    center: [32.1323, -35.550171428571424],\n                    crs: L.CRS.EPSG3857,\n                    ...{\n  &quot;zoom&quot;: 3,\n  &quot;zoomControl&quot;: true,\n  &quot;preferCanvas&quot;: false,\n}\n\n                }\n            );\n\n            \n\n        \n    \n            var tile_layer_40eecb95e766e93f016755cfbb9768c0 = L.tileLayer(\n                &quot;https://tile.openstreetmap.org/{z}/{x}/{y}.png&quot;,\n                {\n  &quot;minZoom&quot;: 0,\n  &quot;maxZoom&quot;: 19,\n  &quot;maxNativeZoom&quot;: 19,\n  &quot;noWrap&quot;: false,\n  &quot;attribution&quot;: &quot;\\u0026copy; \\u003ca href=\\&quot;https://www.openstreetmap.org/copyright\\&quot;\\u003eOpenStreetMap\\u003c/a\\u003e contributors&quot;,\n  &quot;subdomains&quot;: &quot;abc&quot;,\n  &quot;detectRetina&quot;: false,\n  &quot;tms&quot;: false,\n  &quot;opacity&quot;: 1,\n}\n\n            );\n        \n    \n            tile_layer_40eecb95e766e93f016755cfbb9768c0.addTo(map_dee51ea6c67e0bc8e4c66591fcf770bd);\n        \n    \n            var marker_cluster_ab4326e2b294bf8e2ce223c01332bec6 = L.markerClusterGroup(\n                {\n}\n            );\n        \n    \n            var marker_c3ebe833952de26cfb05265a1c81a818 = L.marker(\n                [28.5721, -80.648],\n                {\n}\n            ).addTo(marker_cluster_ab4326e2b294bf8e2ce223c01332bec6);\n        \n    \n            var icon_7b4c17a5167a04ab8c59eb0c1e4871f6 = L.AwesomeMarkers.icon(\n                {\n  &quot;markerColor&quot;: &quot;green&quot;,\n  &quot;iconColor&quot;: &quot;white&quot;,\n  &quot;icon&quot;: &quot;rocket&quot;,\n  &quot;prefix&quot;: &quot;fa&quot;,\n  &quot;extraClasses&quot;: &quot;fa-rotate-0&quot;,\n}\n            );\n        \n    \n        var popup_47aac418c472c2be3a5f0a518ed8dbf1 = L.popup({\n  &quot;maxWidth&quot;: &quot;100%&quot;,\n});\n\n        \n            \n                var html_0dba83075cb91d79146ccb8772488d44 = $(`&lt;div id=&quot;html_0dba83075cb91d79146ccb8772488d44&quot; style=&quot;width: 100.0%; height: 100.0%;&quot;&gt;Kennedy Space Center - Success&lt;/div&gt;`)[0];\n                popup_47aac418c472c2be3a5f0a518ed8dbf1.setContent(html_0dba83075cb91d79146ccb8772488d44);\n            \n        \n\n        marker_c3ebe833952de26cfb05265a1c81a818.bindPopup(popup_47aac418c472c2be3a5f0a518ed8dbf1)\n        ;\n\n        \n    \n    \n            marker_c3ebe833952de26cfb05265a1c81a818.bindTooltip(\n                `&lt;div&gt;\n                     Kennedy Space Center (Success)\n                 &lt;/div&gt;`,\n                {\n  &quot;sticky&quot;: true,\n}\n            );\n        \n    \n                marker_c3ebe833952de26cfb05265a1c81a818.setIcon(icon_7b4c17a5167a04ab8c59eb0c1e4871f6);\n            \n    \n            var marker_d7333c4269f6607679e3b5a26e2c1d3d = L.marker(\n                [28.5721, -80.648],\n                {\n}\n            ).addTo(marker_cluster_ab4326e2b294bf8e2ce223c01332bec6);\n        \n    \n            var icon_f32851efe2a5941222412c7391910243 = L.AwesomeMarkers.icon(\n                {\n  &quot;markerColor&quot;: &quot;red&quot;,\n  &quot;iconColor&quot;: &quot;white&quot;,\n  &quot;icon&quot;: &quot;rocket&quot;,\n  &quot;prefix&quot;: &quot;fa&quot;,\n  &quot;extraClasses&quot;: &quot;fa-rotate-0&quot;,\n}\n            );\n        \n    \n        var popup_a6404cfbeb524c3ac316e52a3ffcbd29 = L.popup({\n  &quot;maxWidth&quot;: &quot;100%&quot;,\n});\n\n        \n            \n                var html_4ce845f00960c7c3c6c48c0f1b4e39a3 = $(`&lt;div id=&quot;html_4ce845f00960c7c3c6c48c0f1b4e39a3&quot; style=&quot;width: 100.0%; height: 100.0%;&quot;&gt;Kennedy Space Center - Failure&lt;/div&gt;`)[0];\n                popup_a6404cfbeb524c3ac316e52a3ffcbd29.setContent(html_4ce845f00960c7c3c6c48c0f1b4e39a3);\n            \n        \n\n        marker_d7333c4269f6607679e3b5a26e2c1d3d.bindPopup(popup_a6404cfbeb524c3ac316e52a3ffcbd29)\n        ;\n\n        \n    \n    \n            marker_d7333c4269f6607679e3b5a26e2c1d3d.bindTooltip(\n                `&lt;div&gt;\n                     Kennedy Space Center (Failure)\n                 &lt;/div&gt;`,\n                {\n  &quot;sticky&quot;: true,\n}\n            );\n        \n    \n                marker_d7333c4269f6607679e3b5a26e2c1d3d.setIcon(icon_f32851efe2a5941222412c7391910243);\n            \n    \n            var marker_2765c4dcb955414e228540499f4de0ba = L.marker(\n                [28.3922, -80.6077],\n                {\n}\n            ).addTo(marker_cluster_ab4326e2b294bf8e2ce223c01332bec6);\n        \n    \n            var icon_8532afb5fbd6165fc3a33cf189e90bec = L.AwesomeMarkers.icon(\n                {\n  &quot;markerColor&quot;: &quot;green&quot;,\n  &quot;iconColor&quot;: &quot;white&quot;,\n  &quot;icon&quot;: &quot;rocket&quot;,\n  &quot;prefix&quot;: &quot;fa&quot;,\n  &quot;extraClasses&quot;: &quot;fa-rotate-0&quot;,\n}\n            );\n        \n    \n        var popup_24932bd4da313b01ee1e35f3770cabdf = L.popup({\n  &quot;maxWidth&quot;: &quot;100%&quot;,\n});\n\n        \n            \n                var html_fbdf4d19de5858abcce8a955d5e459f4 = $(`&lt;div id=&quot;html_fbdf4d19de5858abcce8a955d5e459f4&quot; style=&quot;width: 100.0%; height: 100.0%;&quot;&gt;Cape Canaveral - Success&lt;/div&gt;`)[0];\n                popup_24932bd4da313b01ee1e35f3770cabdf.setContent(html_fbdf4d19de5858abcce8a955d5e459f4);\n            \n        \n\n        marker_2765c4dcb955414e228540499f4de0ba.bindPopup(popup_24932bd4da313b01ee1e35f3770cabdf)\n        ;\n\n        \n    \n    \n            marker_2765c4dcb955414e228540499f4de0ba.bindTooltip(\n                `&lt;div&gt;\n                     Cape Canaveral (Success)\n                 &lt;/div&gt;`,\n                {\n  &quot;sticky&quot;: true,\n}\n            );\n        \n    \n                marker_2765c4dcb955414e228540499f4de0ba.setIcon(icon_8532afb5fbd6165fc3a33cf189e90bec);\n            \n    \n            var marker_22e503f840b57c0f36db07e493557b7d = L.marker(\n                [28.3922, -80.6077],\n                {\n}\n            ).addTo(marker_cluster_ab4326e2b294bf8e2ce223c01332bec6);\n        \n    \n            var icon_09f32722aeff7579c70bc737c037eb09 = L.AwesomeMarkers.icon(\n                {\n  &quot;markerColor&quot;: &quot;red&quot;,\n  &quot;iconColor&quot;: &quot;white&quot;,\n  &quot;icon&quot;: &quot;rocket&quot;,\n  &quot;prefix&quot;: &quot;fa&quot;,\n  &quot;extraClasses&quot;: &quot;fa-rotate-0&quot;,\n}\n            );\n        \n    \n        var popup_2ab320f5c167a2709d3be6ce08fdcae8 = L.popup({\n  &quot;maxWidth&quot;: &quot;100%&quot;,\n});\n\n        \n            \n                var html_11fea0b16786a1ceee2d1192ab872331 = $(`&lt;div id=&quot;html_11fea0b16786a1ceee2d1192ab872331&quot; style=&quot;width: 100.0%; height: 100.0%;&quot;&gt;Cape Canaveral - Failure&lt;/div&gt;`)[0];\n                popup_2ab320f5c167a2709d3be6ce08fdcae8.setContent(html_11fea0b16786a1ceee2d1192ab872331);\n            \n        \n\n        marker_22e503f840b57c0f36db07e493557b7d.bindPopup(popup_2ab320f5c167a2709d3be6ce08fdcae8)\n        ;\n\n        \n    \n    \n            marker_22e503f840b57c0f36db07e493557b7d.bindTooltip(\n                `&lt;div&gt;\n                     Cape Canaveral (Failure)\n                 &lt;/div&gt;`,\n                {\n  &quot;sticky&quot;: true,\n}\n            );\n        \n    \n                marker_22e503f840b57c0f36db07e493557b7d.setIcon(icon_09f32722aeff7579c70bc737c037eb09);\n            \n    \n            var marker_570b3525b07aeaab762194f60a4dc9d2 = L.marker(\n                [34.6328, -120.6108],\n                {\n}\n            ).addTo(marker_cluster_ab4326e2b294bf8e2ce223c01332bec6);\n        \n    \n            var icon_dc9b2def3de09fbf7355feffbe911758 = L.AwesomeMarkers.icon(\n                {\n  &quot;markerColor&quot;: &quot;green&quot;,\n  &quot;iconColor&quot;: &quot;white&quot;,\n  &quot;icon&quot;: &quot;rocket&quot;,\n  &quot;prefix&quot;: &quot;fa&quot;,\n  &quot;extraClasses&quot;: &quot;fa-rotate-0&quot;,\n}\n            );\n        \n    \n        var popup_d3a353e3b1b68288b1ca629bbf0cd8b5 = L.popup({\n  &quot;maxWidth&quot;: &quot;100%&quot;,\n});\n\n        \n            \n                var html_615c5e7bde8cf2d649864bc6f58e49c4 = $(`&lt;div id=&quot;html_615c5e7bde8cf2d649864bc6f58e49c4&quot; style=&quot;width: 100.0%; height: 100.0%;&quot;&gt;Vandenberg SFB - Success&lt;/div&gt;`)[0];\n                popup_d3a353e3b1b68288b1ca629bbf0cd8b5.setContent(html_615c5e7bde8cf2d649864bc6f58e49c4);\n            \n        \n\n        marker_570b3525b07aeaab762194f60a4dc9d2.bindPopup(popup_d3a353e3b1b68288b1ca629bbf0cd8b5)\n        ;\n\n        \n    \n    \n            marker_570b3525b07aeaab762194f60a4dc9d2.bindTooltip(\n                `&lt;div&gt;\n                     Vandenberg SFB (Success)\n                 &lt;/div&gt;`,\n                {\n  &quot;sticky&quot;: true,\n}\n            );\n        \n    \n                marker_570b3525b07aeaab762194f60a4dc9d2.setIcon(icon_dc9b2def3de09fbf7355feffbe911758);\n            \n    \n            var marker_b067225a87e81eef37f3f0337f43308f = L.marker(\n                [45.9647, 63.305],\n                {\n}\n            ).addTo(marker_cluster_ab4326e2b294bf8e2ce223c01332bec6);\n        \n    \n            var icon_7d83bbef36e767388fa79e28331983b8 = L.AwesomeMarkers.icon(\n                {\n  &quot;markerColor&quot;: &quot;red&quot;,\n  &quot;iconColor&quot;: &quot;white&quot;,\n  &quot;icon&quot;: &quot;rocket&quot;,\n  &quot;prefix&quot;: &quot;fa&quot;,\n  &quot;extraClasses&quot;: &quot;fa-rotate-0&quot;,\n}\n            );\n        \n    \n        var popup_41b86ee454199aa39a99e3f00b849360 = L.popup({\n  &quot;maxWidth&quot;: &quot;100%&quot;,\n});\n\n        \n            \n                var html_b36373ae45a908e6a76a2bafb0d83dd3 = $(`&lt;div id=&quot;html_b36373ae45a908e6a76a2bafb0d83dd3&quot; style=&quot;width: 100.0%; height: 100.0%;&quot;&gt;Baikonur Cosmodrome - Failure&lt;/div&gt;`)[0];\n                popup_41b86ee454199aa39a99e3f00b849360.setContent(html_b36373ae45a908e6a76a2bafb0d83dd3);\n            \n        \n\n        marker_b067225a87e81eef37f3f0337f43308f.bindPopup(popup_41b86ee454199aa39a99e3f00b849360)\n        ;\n\n        \n    \n    \n            marker_b067225a87e81eef37f3f0337f43308f.bindTooltip(\n                `&lt;div&gt;\n                     Baikonur Cosmodrome (Failure)\n                 &lt;/div&gt;`,\n                {\n  &quot;sticky&quot;: true,\n}\n            );\n        \n    \n                marker_b067225a87e81eef37f3f0337f43308f.setIcon(icon_7d83bbef36e767388fa79e28331983b8);\n            \n    \n            var marker_4bc94f5c39b4302b8b3868dae3df0784 = L.marker(\n                [30.4, 130.966],\n                {\n}\n            ).addTo(marker_cluster_ab4326e2b294bf8e2ce223c01332bec6);\n        \n    \n            var icon_9c4541f0082ea348daf6838299655b3d = L.AwesomeMarkers.icon(\n                {\n  &quot;markerColor&quot;: &quot;green&quot;,\n  &quot;iconColor&quot;: &quot;white&quot;,\n  &quot;icon&quot;: &quot;rocket&quot;,\n  &quot;prefix&quot;: &quot;fa&quot;,\n  &quot;extraClasses&quot;: &quot;fa-rotate-0&quot;,\n}\n            );\n        \n    \n        var popup_bcad487e9869a2ef052c5a2a4074c48d = L.popup({\n  &quot;maxWidth&quot;: &quot;100%&quot;,\n});\n\n        \n            \n                var html_8980e24ff22a01db7d4d9ddc106a8513 = $(`&lt;div id=&quot;html_8980e24ff22a01db7d4d9ddc106a8513&quot; style=&quot;width: 100.0%; height: 100.0%;&quot;&gt;Tanegashima Space Center - Success&lt;/div&gt;`)[0];\n                popup_bcad487e9869a2ef052c5a2a4074c48d.setContent(html_8980e24ff22a01db7d4d9ddc106a8513);\n            \n        \n\n        marker_4bc94f5c39b4302b8b3868dae3df0784.bindPopup(popup_bcad487e9869a2ef052c5a2a4074c48d)\n        ;\n\n        \n    \n    \n            marker_4bc94f5c39b4302b8b3868dae3df0784.bindTooltip(\n                `&lt;div&gt;\n                     Tanegashima Space Center (Success)\n                 &lt;/div&gt;`,\n                {\n  &quot;sticky&quot;: true,\n}\n            );\n        \n    \n                marker_4bc94f5c39b4302b8b3868dae3df0784.setIcon(icon_9c4541f0082ea348daf6838299655b3d);\n            \n    \n            marker_cluster_ab4326e2b294bf8e2ce223c01332bec6.addTo(map_dee51ea6c67e0bc8e4c66591fcf770bd);\n        \n&lt;/script&gt;\n&lt;/html&gt;\" style=\"position:absolute;width:100%;height:100%;left:0;top:0;border:none !important;\" allowfullscreen webkitallowfullscreen mozallowfullscreen></iframe></div></div>"
          },
          "metadata": {}
        }
      ],
      "execution_count": 11
    },
    {
      "cell_type": "markdown",
      "source": "Next, let's try to enhance the map by adding the launch outcomes for each site, and see which sites have high success rates.\nRecall that data frame spacex_df has detailed launch records, and the `class` column indicates if this launch was successful or not\n",
      "metadata": {}
    },
    {
      "cell_type": "code",
      "source": "spacex_df.tail(10)",
      "metadata": {
        "trusted": true
      },
      "outputs": [
        {
          "execution_count": 12,
          "output_type": "execute_result",
          "data": {
            "text/plain": "    Flight Number        Date Time (UTC) Booster Version   Launch Site  \\\n46             43  2017-10-11   22:53:00  F9 FT  B1031.2    KSC LC-39A   \n47             44  2017-10-30   19:34:00   F9 B4 B1042.1    KSC LC-39A   \n48             54  2018-05-11   20:14:00  F9 B5  B1046.1    KSC LC-39A   \n49             45  2017-12-15   15:36:00  F9 FT  B1035.2  CCAFS SLC-40   \n50             47  2018-01-08    1:00:00   F9 B4 B1043.1  CCAFS SLC-40   \n51             48  2018-01-31   21:25:00  F9 FT  B1032.2  CCAFS SLC-40   \n52             50  2018-03-06    5:33:00     F9 B4 B1044  CCAFS SLC-40   \n53             52  2018-04-02   20:30:00  F9 B4  B1039.2  CCAFS SLC-40   \n54             53  2018-04-18   22:51:00   F9 B4 B1045.1  CCAFS SLC-40   \n55             56  2018-06-04    4:45:00  F9 B4  B1040.2  CCAFS SLC-40   \n\n                                         Payload  Payload Mass (kg)  \\\n46                         SES-11 / EchoStar 105            5200.00   \n47                                   Koreasat 5A            3500.00   \n48                                 Bangabandhu-1            3600.00   \n49                                 SpaceX CRS-13            2205.00   \n50                                          Zuma            3696.65   \n51                             GovSat-1 / SES-16            4230.00   \n52                        Hispasat 30W-6  PODSat            6092.00   \n53                                 SpaceX CRS-14            2647.00   \n54  Transiting Exoplanet Survey Satellite (TESS)             362.00   \n55                                        SES-12            5384.00   \n\n        Orbit             Customer       Landing Outcome  class        Lat  \\\n46        GTO         SES EchoStar  Success (drone ship)      1  28.573255   \n47        GTO       KT Corporation  Success (drone ship)      1  28.573255   \n48        GTO   Thales-Alenia/BTRC  Success (drone ship)      1  28.573255   \n49  LEO (ISS)           NASA (CRS)  Success (ground pad)      1  28.563197   \n50        LEO     Northrop Grumman  Success (ground pad)      1  28.563197   \n51        GTO                  SES    Controlled (ocean)      0  28.563197   \n52        GTO  Hispasat  NovaWurks            No attempt      0  28.563197   \n53  LEO (ISS)           NASA (CRS)            No attempt      0  28.563197   \n54        HEO           NASA (LSP)  Success (drone ship)      1  28.563197   \n55        GTO                  SES            No attempt      0  28.563197   \n\n         Long  \n46 -80.646895  \n47 -80.646895  \n48 -80.646895  \n49 -80.576820  \n50 -80.576820  \n51 -80.576820  \n52 -80.576820  \n53 -80.576820  \n54 -80.576820  \n55 -80.576820  ",
            "text/html": "<div>\n<style scoped>\n    .dataframe tbody tr th:only-of-type {\n        vertical-align: middle;\n    }\n\n    .dataframe tbody tr th {\n        vertical-align: top;\n    }\n\n    .dataframe thead th {\n        text-align: right;\n    }\n</style>\n<table border=\"1\" class=\"dataframe\">\n  <thead>\n    <tr style=\"text-align: right;\">\n      <th></th>\n      <th>Flight Number</th>\n      <th>Date</th>\n      <th>Time (UTC)</th>\n      <th>Booster Version</th>\n      <th>Launch Site</th>\n      <th>Payload</th>\n      <th>Payload Mass (kg)</th>\n      <th>Orbit</th>\n      <th>Customer</th>\n      <th>Landing Outcome</th>\n      <th>class</th>\n      <th>Lat</th>\n      <th>Long</th>\n    </tr>\n  </thead>\n  <tbody>\n    <tr>\n      <th>46</th>\n      <td>43</td>\n      <td>2017-10-11</td>\n      <td>22:53:00</td>\n      <td>F9 FT  B1031.2</td>\n      <td>KSC LC-39A</td>\n      <td>SES-11 / EchoStar 105</td>\n      <td>5200.00</td>\n      <td>GTO</td>\n      <td>SES EchoStar</td>\n      <td>Success (drone ship)</td>\n      <td>1</td>\n      <td>28.573255</td>\n      <td>-80.646895</td>\n    </tr>\n    <tr>\n      <th>47</th>\n      <td>44</td>\n      <td>2017-10-30</td>\n      <td>19:34:00</td>\n      <td>F9 B4 B1042.1</td>\n      <td>KSC LC-39A</td>\n      <td>Koreasat 5A</td>\n      <td>3500.00</td>\n      <td>GTO</td>\n      <td>KT Corporation</td>\n      <td>Success (drone ship)</td>\n      <td>1</td>\n      <td>28.573255</td>\n      <td>-80.646895</td>\n    </tr>\n    <tr>\n      <th>48</th>\n      <td>54</td>\n      <td>2018-05-11</td>\n      <td>20:14:00</td>\n      <td>F9 B5  B1046.1</td>\n      <td>KSC LC-39A</td>\n      <td>Bangabandhu-1</td>\n      <td>3600.00</td>\n      <td>GTO</td>\n      <td>Thales-Alenia/BTRC</td>\n      <td>Success (drone ship)</td>\n      <td>1</td>\n      <td>28.573255</td>\n      <td>-80.646895</td>\n    </tr>\n    <tr>\n      <th>49</th>\n      <td>45</td>\n      <td>2017-12-15</td>\n      <td>15:36:00</td>\n      <td>F9 FT  B1035.2</td>\n      <td>CCAFS SLC-40</td>\n      <td>SpaceX CRS-13</td>\n      <td>2205.00</td>\n      <td>LEO (ISS)</td>\n      <td>NASA (CRS)</td>\n      <td>Success (ground pad)</td>\n      <td>1</td>\n      <td>28.563197</td>\n      <td>-80.576820</td>\n    </tr>\n    <tr>\n      <th>50</th>\n      <td>47</td>\n      <td>2018-01-08</td>\n      <td>1:00:00</td>\n      <td>F9 B4 B1043.1</td>\n      <td>CCAFS SLC-40</td>\n      <td>Zuma</td>\n      <td>3696.65</td>\n      <td>LEO</td>\n      <td>Northrop Grumman</td>\n      <td>Success (ground pad)</td>\n      <td>1</td>\n      <td>28.563197</td>\n      <td>-80.576820</td>\n    </tr>\n    <tr>\n      <th>51</th>\n      <td>48</td>\n      <td>2018-01-31</td>\n      <td>21:25:00</td>\n      <td>F9 FT  B1032.2</td>\n      <td>CCAFS SLC-40</td>\n      <td>GovSat-1 / SES-16</td>\n      <td>4230.00</td>\n      <td>GTO</td>\n      <td>SES</td>\n      <td>Controlled (ocean)</td>\n      <td>0</td>\n      <td>28.563197</td>\n      <td>-80.576820</td>\n    </tr>\n    <tr>\n      <th>52</th>\n      <td>50</td>\n      <td>2018-03-06</td>\n      <td>5:33:00</td>\n      <td>F9 B4 B1044</td>\n      <td>CCAFS SLC-40</td>\n      <td>Hispasat 30W-6  PODSat</td>\n      <td>6092.00</td>\n      <td>GTO</td>\n      <td>Hispasat  NovaWurks</td>\n      <td>No attempt</td>\n      <td>0</td>\n      <td>28.563197</td>\n      <td>-80.576820</td>\n    </tr>\n    <tr>\n      <th>53</th>\n      <td>52</td>\n      <td>2018-04-02</td>\n      <td>20:30:00</td>\n      <td>F9 B4  B1039.2</td>\n      <td>CCAFS SLC-40</td>\n      <td>SpaceX CRS-14</td>\n      <td>2647.00</td>\n      <td>LEO (ISS)</td>\n      <td>NASA (CRS)</td>\n      <td>No attempt</td>\n      <td>0</td>\n      <td>28.563197</td>\n      <td>-80.576820</td>\n    </tr>\n    <tr>\n      <th>54</th>\n      <td>53</td>\n      <td>2018-04-18</td>\n      <td>22:51:00</td>\n      <td>F9 B4 B1045.1</td>\n      <td>CCAFS SLC-40</td>\n      <td>Transiting Exoplanet Survey Satellite (TESS)</td>\n      <td>362.00</td>\n      <td>HEO</td>\n      <td>NASA (LSP)</td>\n      <td>Success (drone ship)</td>\n      <td>1</td>\n      <td>28.563197</td>\n      <td>-80.576820</td>\n    </tr>\n    <tr>\n      <th>55</th>\n      <td>56</td>\n      <td>2018-06-04</td>\n      <td>4:45:00</td>\n      <td>F9 B4  B1040.2</td>\n      <td>CCAFS SLC-40</td>\n      <td>SES-12</td>\n      <td>5384.00</td>\n      <td>GTO</td>\n      <td>SES</td>\n      <td>No attempt</td>\n      <td>0</td>\n      <td>28.563197</td>\n      <td>-80.576820</td>\n    </tr>\n  </tbody>\n</table>\n</div>"
          },
          "metadata": {}
        }
      ],
      "execution_count": 12
    },
    {
      "cell_type": "markdown",
      "source": "Next, let's create markers for all launch records.\nIf a launch was successful `(class=1)`, then we use a green marker and if a launch was failed, we use a red marker `(class=0)`\n",
      "metadata": {}
    },
    {
      "cell_type": "markdown",
      "source": "Note that a launch only happens in one of the four launch sites, which means many launch records will have the exact same coordinate. Marker clusters can be a good way to simplify a map containing many markers having the same coordinate.\n",
      "metadata": {}
    },
    {
      "cell_type": "markdown",
      "source": "Let's first create a `MarkerCluster` object\n",
      "metadata": {}
    },
    {
      "cell_type": "code",
      "source": "marker_cluster = MarkerCluster()\n",
      "metadata": {
        "trusted": true
      },
      "outputs": [],
      "execution_count": 13
    },
    {
      "cell_type": "markdown",
      "source": "*TODO:* Create a new column in `spacex_df` dataframe called `marker_color` to store the marker colors based on the `class` value\n",
      "metadata": {}
    },
    {
      "cell_type": "code",
      "source": "\n\n# Sample dataframe\nspacex_df = pd.DataFrame({'class': [1, 0, 1, 0, 1]})  \n\n# Function to determine marker color\ndef assign_marker_color(launch_class):\n    return 'green' if launch_class == 1 else 'red'\n\n# Apply function to create marker_color column\nspacex_df['marker_color'] = spacex_df['class'].apply(assign_marker_color)\n\n# Display the dataframe\nprint(spacex_df)\n",
      "metadata": {
        "trusted": true
      },
      "outputs": [
        {
          "name": "stdout",
          "text": "   class marker_color\n0      1        green\n1      0          red\n2      1        green\n3      0          red\n4      1        green\n",
          "output_type": "stream"
        }
      ],
      "execution_count": 14
    },
    {
      "cell_type": "markdown",
      "source": "*TODO:* For each launch result in `spacex_df` data frame, add a `folium.Marker` to `marker_cluster`\n",
      "metadata": {}
    },
    {
      "cell_type": "code",
      "source": "# Add marker_cluster to current site_map\nsite_map.add_child(marker_cluster)\n\n# for each row in spacex_df data frame\n# create a Marker object with its coordinate\n# and customize the Marker's icon property to indicate if this launch was successed or failed, \n# e.g., icon=folium.Icon(color='white', icon_color=row['marker_color']\nfor index, record in spacex_df.iterrows():\n    # TODO: Create and add a Marker cluster to the site map\n    # marker = folium.Marker(...)\n    marker_cluster.add_child(marker)\n\nsite_map",
      "metadata": {
        "trusted": true
      },
      "outputs": [
        {
          "execution_count": 15,
          "output_type": "execute_result",
          "data": {
            "text/plain": "<folium.folium.Map at 0x5493aa0>",
            "text/html": "<div style=\"width:100%;\"><div style=\"position:relative;width:100%;height:0;padding-bottom:60%;\"><span style=\"color:#565656\">Make this Notebook Trusted to load map: File -> Trust Notebook</span><iframe srcdoc=\"&lt;!DOCTYPE html&gt;\n&lt;html&gt;\n&lt;head&gt;\n    \n    &lt;meta http-equiv=&quot;content-type&quot; content=&quot;text/html; charset=UTF-8&quot; /&gt;\n    \n        &lt;script&gt;\n            L_NO_TOUCH = false;\n            L_DISABLE_3D = false;\n        &lt;/script&gt;\n    \n    &lt;style&gt;html, body {width: 100%;height: 100%;margin: 0;padding: 0;}&lt;/style&gt;\n    &lt;style&gt;#map {position:absolute;top:0;bottom:0;right:0;left:0;}&lt;/style&gt;\n    &lt;script src=&quot;https://cdn.jsdelivr.net/npm/leaflet@1.9.3/dist/leaflet.js&quot;&gt;&lt;/script&gt;\n    &lt;script src=&quot;https://code.jquery.com/jquery-3.7.1.min.js&quot;&gt;&lt;/script&gt;\n    &lt;script src=&quot;https://cdn.jsdelivr.net/npm/bootstrap@5.2.2/dist/js/bootstrap.bundle.min.js&quot;&gt;&lt;/script&gt;\n    &lt;script src=&quot;https://cdnjs.cloudflare.com/ajax/libs/Leaflet.awesome-markers/2.0.2/leaflet.awesome-markers.js&quot;&gt;&lt;/script&gt;\n    &lt;link rel=&quot;stylesheet&quot; href=&quot;https://cdn.jsdelivr.net/npm/leaflet@1.9.3/dist/leaflet.css&quot;/&gt;\n    &lt;link rel=&quot;stylesheet&quot; href=&quot;https://cdn.jsdelivr.net/npm/bootstrap@5.2.2/dist/css/bootstrap.min.css&quot;/&gt;\n    &lt;link rel=&quot;stylesheet&quot; href=&quot;https://netdna.bootstrapcdn.com/bootstrap/3.0.0/css/bootstrap-glyphicons.css&quot;/&gt;\n    &lt;link rel=&quot;stylesheet&quot; href=&quot;https://cdn.jsdelivr.net/npm/@fortawesome/fontawesome-free@6.2.0/css/all.min.css&quot;/&gt;\n    &lt;link rel=&quot;stylesheet&quot; href=&quot;https://cdnjs.cloudflare.com/ajax/libs/Leaflet.awesome-markers/2.0.2/leaflet.awesome-markers.css&quot;/&gt;\n    &lt;link rel=&quot;stylesheet&quot; href=&quot;https://cdn.jsdelivr.net/gh/python-visualization/folium/folium/templates/leaflet.awesome.rotate.min.css&quot;/&gt;\n    \n            &lt;meta name=&quot;viewport&quot; content=&quot;width=device-width,\n                initial-scale=1.0, maximum-scale=1.0, user-scalable=no&quot; /&gt;\n            &lt;style&gt;\n                #map_75ba35b197a05a1ba638daa73a0a48f3 {\n                    position: relative;\n                    width: 100.0%;\n                    height: 100.0%;\n                    left: 0.0%;\n                    top: 0.0%;\n                }\n                .leaflet-container { font-size: 1rem; }\n            &lt;/style&gt;\n        \n    &lt;script src=&quot;https://cdnjs.cloudflare.com/ajax/libs/leaflet.markercluster/1.1.0/leaflet.markercluster.js&quot;&gt;&lt;/script&gt;\n    &lt;link rel=&quot;stylesheet&quot; href=&quot;https://cdnjs.cloudflare.com/ajax/libs/leaflet.markercluster/1.1.0/MarkerCluster.css&quot;/&gt;\n    &lt;link rel=&quot;stylesheet&quot; href=&quot;https://cdnjs.cloudflare.com/ajax/libs/leaflet.markercluster/1.1.0/MarkerCluster.Default.css&quot;/&gt;\n&lt;/head&gt;\n&lt;body&gt;\n    \n    \n            &lt;div class=&quot;folium-map&quot; id=&quot;map_75ba35b197a05a1ba638daa73a0a48f3&quot; &gt;&lt;/div&gt;\n        \n&lt;/body&gt;\n&lt;script&gt;\n    \n    \n            var map_75ba35b197a05a1ba638daa73a0a48f3 = L.map(\n                &quot;map_75ba35b197a05a1ba638daa73a0a48f3&quot;,\n                {\n                    center: [29.559684888503615, -95.0830971930759],\n                    crs: L.CRS.EPSG3857,\n                    ...{\n  &quot;zoom&quot;: 5,\n  &quot;zoomControl&quot;: true,\n  &quot;preferCanvas&quot;: false,\n}\n\n                }\n            );\n\n            \n\n        \n    \n            var tile_layer_c0e3e1936143f0b46428c85fe1fa8d94 = L.tileLayer(\n                &quot;https://tile.openstreetmap.org/{z}/{x}/{y}.png&quot;,\n                {\n  &quot;minZoom&quot;: 0,\n  &quot;maxZoom&quot;: 19,\n  &quot;maxNativeZoom&quot;: 19,\n  &quot;noWrap&quot;: false,\n  &quot;attribution&quot;: &quot;\\u0026copy; \\u003ca href=\\&quot;https://www.openstreetmap.org/copyright\\&quot;\\u003eOpenStreetMap\\u003c/a\\u003e contributors&quot;,\n  &quot;subdomains&quot;: &quot;abc&quot;,\n  &quot;detectRetina&quot;: false,\n  &quot;tms&quot;: false,\n  &quot;opacity&quot;: 1,\n}\n\n            );\n        \n    \n            tile_layer_c0e3e1936143f0b46428c85fe1fa8d94.addTo(map_75ba35b197a05a1ba638daa73a0a48f3);\n        \n    \n            var marker_cluster_203acab1e448211b9f42bba6495d1912 = L.markerClusterGroup(\n                {\n}\n            );\n        \n    \n            var marker_6da33b21e01f8427debec86339b9dc43 = L.marker(\n                [29.559684888503615, -95.0830971930759],\n                {\n}\n            ).addTo(marker_cluster_203acab1e448211b9f42bba6495d1912);\n        \n    \n            var div_icon_6d0ac027e30d74bbe79d5c6ccacecb34 = L.divIcon({\n  &quot;html&quot;: &quot;\\u003cdiv style=\\&quot;font-size: 12; color:#d35400;\\&quot;\\u003e\\u003cb\\u003eNASA JSC\\u003c/b\\u003e\\u003c/div\\u003e&quot;,\n  &quot;iconSize&quot;: [20, 20],\n  &quot;iconAnchor&quot;: [0, 0],\n  &quot;className&quot;: &quot;empty&quot;,\n});\n            marker_6da33b21e01f8427debec86339b9dc43.setIcon(div_icon_6d0ac027e30d74bbe79d5c6ccacecb34);\n        \n    \n                marker_6da33b21e01f8427debec86339b9dc43.setIcon(div_icon_6d0ac027e30d74bbe79d5c6ccacecb34);\n            \n    \n                marker_6da33b21e01f8427debec86339b9dc43.setIcon(div_icon_6d0ac027e30d74bbe79d5c6ccacecb34);\n            \n    \n            marker_cluster_203acab1e448211b9f42bba6495d1912.addTo(map_75ba35b197a05a1ba638daa73a0a48f3);\n        \n&lt;/script&gt;\n&lt;/html&gt;\" style=\"position:absolute;width:100%;height:100%;left:0;top:0;border:none !important;\" allowfullscreen webkitallowfullscreen mozallowfullscreen></iframe></div></div>"
          },
          "metadata": {}
        }
      ],
      "execution_count": 15
    },
    {
      "cell_type": "markdown",
      "source": "Your updated map may look like the following screenshots:\n",
      "metadata": {}
    },
    {
      "cell_type": "markdown",
      "source": "<center>\n    <img src=\"https://cf-courses-data.s3.us.cloud-object-storage.appdomain.cloud/IBM-DS0321EN-SkillsNetwork/labs/module_3/images/launch_site_marker_cluster.png\">\n</center>\n",
      "metadata": {}
    },
    {
      "cell_type": "markdown",
      "source": "<center>\n    <img src=\"https://cf-courses-data.s3.us.cloud-object-storage.appdomain.cloud/IBM-DS0321EN-SkillsNetwork/labs/module_3/images/launch_site_marker_cluster_zoomed.png\">\n</center>\n",
      "metadata": {}
    },
    {
      "cell_type": "markdown",
      "source": "From the color-labeled markers in marker clusters, you should be able to easily identify which launch sites have relatively high success rates.\n",
      "metadata": {}
    },
    {
      "cell_type": "code",
      "source": "# TASK 3: Calculate the distances between a launch site to its proximities\n\n\n\n\n\n",
      "metadata": {
        "trusted": true
      },
      "outputs": [],
      "execution_count": 22
    },
    {
      "cell_type": "markdown",
      "source": "Next, we need to explore and analyze the proximities of launch sites.\n",
      "metadata": {}
    },
    {
      "cell_type": "markdown",
      "source": "Let's first add a `MousePosition` on the map to get coordinate for a mouse over a point on the map. As such, while you are exploring the map, you can easily find the coordinates of any points of interests (such as railway)\n",
      "metadata": {}
    },
    {
      "cell_type": "code",
      "source": "# Add Mouse Position to get the coordinate (Lat, Long) for a mouse over on the map\nformatter = \"function(num) {return L.Util.formatNum(num, 5);};\"\nmouse_position = MousePosition(\n    position='topright',\n    separator=' Long: ',\n    empty_string='NaN',\n    lng_first=False,\n    num_digits=20,\n    prefix='Lat:',\n    lat_formatter=formatter,\n    lng_formatter=formatter,\n)\n\nsite_map.add_child(mouse_position)\nsite_map",
      "metadata": {
        "trusted": true
      },
      "outputs": [
        {
          "execution_count": 17,
          "output_type": "execute_result",
          "data": {
            "text/plain": "<folium.folium.Map at 0x5493aa0>",
            "text/html": "<div style=\"width:100%;\"><div style=\"position:relative;width:100%;height:0;padding-bottom:60%;\"><span style=\"color:#565656\">Make this Notebook Trusted to load map: File -> Trust Notebook</span><iframe srcdoc=\"&lt;!DOCTYPE html&gt;\n&lt;html&gt;\n&lt;head&gt;\n    \n    &lt;meta http-equiv=&quot;content-type&quot; content=&quot;text/html; charset=UTF-8&quot; /&gt;\n    \n        &lt;script&gt;\n            L_NO_TOUCH = false;\n            L_DISABLE_3D = false;\n        &lt;/script&gt;\n    \n    &lt;style&gt;html, body {width: 100%;height: 100%;margin: 0;padding: 0;}&lt;/style&gt;\n    &lt;style&gt;#map {position:absolute;top:0;bottom:0;right:0;left:0;}&lt;/style&gt;\n    &lt;script src=&quot;https://cdn.jsdelivr.net/npm/leaflet@1.9.3/dist/leaflet.js&quot;&gt;&lt;/script&gt;\n    &lt;script src=&quot;https://code.jquery.com/jquery-3.7.1.min.js&quot;&gt;&lt;/script&gt;\n    &lt;script src=&quot;https://cdn.jsdelivr.net/npm/bootstrap@5.2.2/dist/js/bootstrap.bundle.min.js&quot;&gt;&lt;/script&gt;\n    &lt;script src=&quot;https://cdnjs.cloudflare.com/ajax/libs/Leaflet.awesome-markers/2.0.2/leaflet.awesome-markers.js&quot;&gt;&lt;/script&gt;\n    &lt;link rel=&quot;stylesheet&quot; href=&quot;https://cdn.jsdelivr.net/npm/leaflet@1.9.3/dist/leaflet.css&quot;/&gt;\n    &lt;link rel=&quot;stylesheet&quot; href=&quot;https://cdn.jsdelivr.net/npm/bootstrap@5.2.2/dist/css/bootstrap.min.css&quot;/&gt;\n    &lt;link rel=&quot;stylesheet&quot; href=&quot;https://netdna.bootstrapcdn.com/bootstrap/3.0.0/css/bootstrap-glyphicons.css&quot;/&gt;\n    &lt;link rel=&quot;stylesheet&quot; href=&quot;https://cdn.jsdelivr.net/npm/@fortawesome/fontawesome-free@6.2.0/css/all.min.css&quot;/&gt;\n    &lt;link rel=&quot;stylesheet&quot; href=&quot;https://cdnjs.cloudflare.com/ajax/libs/Leaflet.awesome-markers/2.0.2/leaflet.awesome-markers.css&quot;/&gt;\n    &lt;link rel=&quot;stylesheet&quot; href=&quot;https://cdn.jsdelivr.net/gh/python-visualization/folium/folium/templates/leaflet.awesome.rotate.min.css&quot;/&gt;\n    \n            &lt;meta name=&quot;viewport&quot; content=&quot;width=device-width,\n                initial-scale=1.0, maximum-scale=1.0, user-scalable=no&quot; /&gt;\n            &lt;style&gt;\n                #map_75ba35b197a05a1ba638daa73a0a48f3 {\n                    position: relative;\n                    width: 100.0%;\n                    height: 100.0%;\n                    left: 0.0%;\n                    top: 0.0%;\n                }\n                .leaflet-container { font-size: 1rem; }\n            &lt;/style&gt;\n        \n    &lt;script src=&quot;https://cdnjs.cloudflare.com/ajax/libs/leaflet.markercluster/1.1.0/leaflet.markercluster.js&quot;&gt;&lt;/script&gt;\n    &lt;link rel=&quot;stylesheet&quot; href=&quot;https://cdnjs.cloudflare.com/ajax/libs/leaflet.markercluster/1.1.0/MarkerCluster.css&quot;/&gt;\n    &lt;link rel=&quot;stylesheet&quot; href=&quot;https://cdnjs.cloudflare.com/ajax/libs/leaflet.markercluster/1.1.0/MarkerCluster.Default.css&quot;/&gt;\n    &lt;script src=&quot;https://cdn.jsdelivr.net/gh/ardhi/Leaflet.MousePosition/src/L.Control.MousePosition.min.js&quot;&gt;&lt;/script&gt;\n    &lt;link rel=&quot;stylesheet&quot; href=&quot;https://cdn.jsdelivr.net/gh/ardhi/Leaflet.MousePosition/src/L.Control.MousePosition.min.css&quot;/&gt;\n&lt;/head&gt;\n&lt;body&gt;\n    \n    \n            &lt;div class=&quot;folium-map&quot; id=&quot;map_75ba35b197a05a1ba638daa73a0a48f3&quot; &gt;&lt;/div&gt;\n        \n&lt;/body&gt;\n&lt;script&gt;\n    \n    \n            var map_75ba35b197a05a1ba638daa73a0a48f3 = L.map(\n                &quot;map_75ba35b197a05a1ba638daa73a0a48f3&quot;,\n                {\n                    center: [29.559684888503615, -95.0830971930759],\n                    crs: L.CRS.EPSG3857,\n                    ...{\n  &quot;zoom&quot;: 5,\n  &quot;zoomControl&quot;: true,\n  &quot;preferCanvas&quot;: false,\n}\n\n                }\n            );\n\n            \n\n        \n    \n            var tile_layer_c0e3e1936143f0b46428c85fe1fa8d94 = L.tileLayer(\n                &quot;https://tile.openstreetmap.org/{z}/{x}/{y}.png&quot;,\n                {\n  &quot;minZoom&quot;: 0,\n  &quot;maxZoom&quot;: 19,\n  &quot;maxNativeZoom&quot;: 19,\n  &quot;noWrap&quot;: false,\n  &quot;attribution&quot;: &quot;\\u0026copy; \\u003ca href=\\&quot;https://www.openstreetmap.org/copyright\\&quot;\\u003eOpenStreetMap\\u003c/a\\u003e contributors&quot;,\n  &quot;subdomains&quot;: &quot;abc&quot;,\n  &quot;detectRetina&quot;: false,\n  &quot;tms&quot;: false,\n  &quot;opacity&quot;: 1,\n}\n\n            );\n        \n    \n            tile_layer_c0e3e1936143f0b46428c85fe1fa8d94.addTo(map_75ba35b197a05a1ba638daa73a0a48f3);\n        \n    \n            var marker_cluster_203acab1e448211b9f42bba6495d1912 = L.markerClusterGroup(\n                {\n}\n            );\n        \n    \n            var marker_6da33b21e01f8427debec86339b9dc43 = L.marker(\n                [29.559684888503615, -95.0830971930759],\n                {\n}\n            ).addTo(marker_cluster_203acab1e448211b9f42bba6495d1912);\n        \n    \n            var div_icon_6d0ac027e30d74bbe79d5c6ccacecb34 = L.divIcon({\n  &quot;html&quot;: &quot;\\u003cdiv style=\\&quot;font-size: 12; color:#d35400;\\&quot;\\u003e\\u003cb\\u003eNASA JSC\\u003c/b\\u003e\\u003c/div\\u003e&quot;,\n  &quot;iconSize&quot;: [20, 20],\n  &quot;iconAnchor&quot;: [0, 0],\n  &quot;className&quot;: &quot;empty&quot;,\n});\n            marker_6da33b21e01f8427debec86339b9dc43.setIcon(div_icon_6d0ac027e30d74bbe79d5c6ccacecb34);\n        \n    \n                marker_6da33b21e01f8427debec86339b9dc43.setIcon(div_icon_6d0ac027e30d74bbe79d5c6ccacecb34);\n            \n    \n                marker_6da33b21e01f8427debec86339b9dc43.setIcon(div_icon_6d0ac027e30d74bbe79d5c6ccacecb34);\n            \n    \n            marker_cluster_203acab1e448211b9f42bba6495d1912.addTo(map_75ba35b197a05a1ba638daa73a0a48f3);\n        \n    \n            tile_layer_c0e3e1936143f0b46428c85fe1fa8d94.addTo(map_75ba35b197a05a1ba638daa73a0a48f3);\n        \n    \n                marker_6da33b21e01f8427debec86339b9dc43.setIcon(div_icon_6d0ac027e30d74bbe79d5c6ccacecb34);\n            \n    \n            marker_cluster_203acab1e448211b9f42bba6495d1912.addTo(map_75ba35b197a05a1ba638daa73a0a48f3);\n        \n    \n            var mouse_position_0b2222061d51f58ea73835ca678e2917 = new L.Control.MousePosition(\n                {\n  &quot;position&quot;: &quot;topright&quot;,\n  &quot;separator&quot;: &quot; Long: &quot;,\n  &quot;emptyString&quot;: &quot;NaN&quot;,\n  &quot;lngFirst&quot;: false,\n  &quot;numDigits&quot;: 20,\n  &quot;prefix&quot;: &quot;Lat:&quot;,\n}\n            );\n            mouse_position_0b2222061d51f58ea73835ca678e2917.options[&quot;latFormatter&quot;] =\n                function(num) {return L.Util.formatNum(num, 5);};;\n            mouse_position_0b2222061d51f58ea73835ca678e2917.options[&quot;lngFormatter&quot;] =\n                function(num) {return L.Util.formatNum(num, 5);};;\n            map_75ba35b197a05a1ba638daa73a0a48f3.addControl(mouse_position_0b2222061d51f58ea73835ca678e2917);\n        \n&lt;/script&gt;\n&lt;/html&gt;\" style=\"position:absolute;width:100%;height:100%;left:0;top:0;border:none !important;\" allowfullscreen webkitallowfullscreen mozallowfullscreen></iframe></div></div>"
          },
          "metadata": {}
        }
      ],
      "execution_count": 17
    },
    {
      "cell_type": "markdown",
      "source": "Now zoom in to a launch site and explore its proximity to see if you can easily find any railway, highway, coastline, etc. Move your mouse to these points and mark down their coordinates (shown on the top-left) in order to the distance to the launch site.\n",
      "metadata": {}
    },
    {
      "cell_type": "markdown",
      "source": "Now zoom in to a launch site and explore its proximity to see if you can easily find any railway, highway, coastline, etc. Move your mouse to these points and mark down their coordinates (shown on the top-left) in order to the distance to the launch site.\n",
      "metadata": {}
    },
    {
      "cell_type": "code",
      "source": "from math import sin, cos, sqrt, atan2, radians\n\ndef calculate_distance(lat1, lon1, lat2, lon2):\n    # approximate radius of earth in km\n    R = 6373.0\n\n    lat1 = radians(lat1)\n    lon1 = radians(lon1)\n    lat2 = radians(lat2)\n    lon2 = radians(lon2)\n\n    dlon = lon2 - lon1\n    dlat = lat2 - lat1\n\n    a = sin(dlat / 2)**2 + cos(lat1) * cos(lat2) * sin(dlon / 2)**2\n    c = 2 * atan2(sqrt(a), sqrt(1 - a))\n\n    distance = R * c\n    return distance",
      "metadata": {
        "trusted": true
      },
      "outputs": [],
      "execution_count": 25
    },
    {
      "cell_type": "markdown",
      "source": "*TODO:* Mark down a point on the closest coastline using MousePosition and calculate the distance between the coastline point and the launch site.\n",
      "metadata": {}
    },
    {
      "cell_type": "code",
      "source": "# CCAFS LC-40 Launch Site Coordinates\nlaunch_site_lat = 28.562302\nlaunch_site_lon = -80.577356",
      "metadata": {
        "trusted": true
      },
      "outputs": [],
      "execution_count": 24
    },
    {
      "cell_type": "code",
      "source": "# find coordinate of the closet coastline\n# e.g.,: Lat: 28.56367  Lon: -80.57163\n# distance_coastline = calculate_distance(launch_site_lat, launch_site_lon, coastline_lat, coastline_lon)\n# Coordinates of the closet COASTLINE\nimport folium\nfrom folium import DivIcon\n\n# Define the coordinates of the launch site\nlaunch_site_lat = 28.3922  # Example launch site coordinates (Cape Canaveral)\nlaunch_site_lon = -80.6077\n\n# Function to calculate distance between two coordinates (Haversine formula)\nimport math\n\ndef calculate_distance(lat1, lon1, lat2, lon2):\n    R = 6371.0  # Radius of the Earth in kilometers\n    lat1, lon1, lat2, lon2 = map(math.radians, [lat1, lon1, lat2, lon2])  # Convert from degrees to radians\n    \n    # Compute differences in coordinates\n    dlat = lat2 - lat1\n    dlon = lon2 - lon1\n\n    # Haversine formula\n    a = math.sin(dlat / 2)**2 + math.cos(lat1) * math.cos(lat2) * math.sin(dlon / 2)**2\n    c = 2 * math.atan2(math.sqrt(a), math.sqrt(1 - a))\n\n    # Distance in kilometers\n    distance = R * c\n    return distance\n\n# Coordinates of the closest coastline (example)\ncoastline_lat = 28.56321\ncoastline_lon = -80.56801\n\n# Calculate the distance to the coastline\ndistance_coastline = calculate_distance(launch_site_lat, launch_site_lon, coastline_lat, coastline_lon)\nprint(f'Distance to Coastline: {round(distance_coastline, 2)} km')\n\n# Create a Folium map centered around the launch site\nlaunch_site_map = folium.Map(location=[launch_site_lat, launch_site_lon], zoom_start=12)\n\n# Add a marker for the launch site\nfolium.Marker(\n    [launch_site_lat, launch_site_lon],\n    popup='Launch Site',\n    icon=folium.Icon(color='blue')\n).add_to(launch_site_map)\n\n# Create and add a marker for the coastline\ndistance_marker = folium.Marker(\n    [coastline_lat, coastline_lon],\n    icon=DivIcon(\n        icon_size=(20, 20),\n        icon_anchor=(100, -10),\n        html=f'<div style=\"font-size:12px; color:#222; font-weight:bold; width:200px;\">Coastline {round(distance_coastline, 2)} km</div>',\n    )\n).add_to(launch_site_map)\n\n# Display the map\nlaunch_site_map\n",
      "metadata": {
        "trusted": true
      },
      "outputs": [
        {
          "name": "stdout",
          "text": "Distance to Coastline: 19.41 km\n",
          "output_type": "stream"
        },
        {
          "execution_count": 28,
          "output_type": "execute_result",
          "data": {
            "text/plain": "<folium.folium.Map at 0x60c8df8>",
            "text/html": "<div style=\"width:100%;\"><div style=\"position:relative;width:100%;height:0;padding-bottom:60%;\"><span style=\"color:#565656\">Make this Notebook Trusted to load map: File -> Trust Notebook</span><iframe srcdoc=\"&lt;!DOCTYPE html&gt;\n&lt;html&gt;\n&lt;head&gt;\n    \n    &lt;meta http-equiv=&quot;content-type&quot; content=&quot;text/html; charset=UTF-8&quot; /&gt;\n    \n        &lt;script&gt;\n            L_NO_TOUCH = false;\n            L_DISABLE_3D = false;\n        &lt;/script&gt;\n    \n    &lt;style&gt;html, body {width: 100%;height: 100%;margin: 0;padding: 0;}&lt;/style&gt;\n    &lt;style&gt;#map {position:absolute;top:0;bottom:0;right:0;left:0;}&lt;/style&gt;\n    &lt;script src=&quot;https://cdn.jsdelivr.net/npm/leaflet@1.9.3/dist/leaflet.js&quot;&gt;&lt;/script&gt;\n    &lt;script src=&quot;https://code.jquery.com/jquery-3.7.1.min.js&quot;&gt;&lt;/script&gt;\n    &lt;script src=&quot;https://cdn.jsdelivr.net/npm/bootstrap@5.2.2/dist/js/bootstrap.bundle.min.js&quot;&gt;&lt;/script&gt;\n    &lt;script src=&quot;https://cdnjs.cloudflare.com/ajax/libs/Leaflet.awesome-markers/2.0.2/leaflet.awesome-markers.js&quot;&gt;&lt;/script&gt;\n    &lt;link rel=&quot;stylesheet&quot; href=&quot;https://cdn.jsdelivr.net/npm/leaflet@1.9.3/dist/leaflet.css&quot;/&gt;\n    &lt;link rel=&quot;stylesheet&quot; href=&quot;https://cdn.jsdelivr.net/npm/bootstrap@5.2.2/dist/css/bootstrap.min.css&quot;/&gt;\n    &lt;link rel=&quot;stylesheet&quot; href=&quot;https://netdna.bootstrapcdn.com/bootstrap/3.0.0/css/bootstrap-glyphicons.css&quot;/&gt;\n    &lt;link rel=&quot;stylesheet&quot; href=&quot;https://cdn.jsdelivr.net/npm/@fortawesome/fontawesome-free@6.2.0/css/all.min.css&quot;/&gt;\n    &lt;link rel=&quot;stylesheet&quot; href=&quot;https://cdnjs.cloudflare.com/ajax/libs/Leaflet.awesome-markers/2.0.2/leaflet.awesome-markers.css&quot;/&gt;\n    &lt;link rel=&quot;stylesheet&quot; href=&quot;https://cdn.jsdelivr.net/gh/python-visualization/folium/folium/templates/leaflet.awesome.rotate.min.css&quot;/&gt;\n    \n            &lt;meta name=&quot;viewport&quot; content=&quot;width=device-width,\n                initial-scale=1.0, maximum-scale=1.0, user-scalable=no&quot; /&gt;\n            &lt;style&gt;\n                #map_fae04cc8c167962a55041ed50103fd0c {\n                    position: relative;\n                    width: 100.0%;\n                    height: 100.0%;\n                    left: 0.0%;\n                    top: 0.0%;\n                }\n                .leaflet-container { font-size: 1rem; }\n            &lt;/style&gt;\n        \n&lt;/head&gt;\n&lt;body&gt;\n    \n    \n            &lt;div class=&quot;folium-map&quot; id=&quot;map_fae04cc8c167962a55041ed50103fd0c&quot; &gt;&lt;/div&gt;\n        \n&lt;/body&gt;\n&lt;script&gt;\n    \n    \n            var map_fae04cc8c167962a55041ed50103fd0c = L.map(\n                &quot;map_fae04cc8c167962a55041ed50103fd0c&quot;,\n                {\n                    center: [28.3922, -80.6077],\n                    crs: L.CRS.EPSG3857,\n                    ...{\n  &quot;zoom&quot;: 12,\n  &quot;zoomControl&quot;: true,\n  &quot;preferCanvas&quot;: false,\n}\n\n                }\n            );\n\n            \n\n        \n    \n            var tile_layer_e34d688c13ad3129176993466b8423d2 = L.tileLayer(\n                &quot;https://tile.openstreetmap.org/{z}/{x}/{y}.png&quot;,\n                {\n  &quot;minZoom&quot;: 0,\n  &quot;maxZoom&quot;: 19,\n  &quot;maxNativeZoom&quot;: 19,\n  &quot;noWrap&quot;: false,\n  &quot;attribution&quot;: &quot;\\u0026copy; \\u003ca href=\\&quot;https://www.openstreetmap.org/copyright\\&quot;\\u003eOpenStreetMap\\u003c/a\\u003e contributors&quot;,\n  &quot;subdomains&quot;: &quot;abc&quot;,\n  &quot;detectRetina&quot;: false,\n  &quot;tms&quot;: false,\n  &quot;opacity&quot;: 1,\n}\n\n            );\n        \n    \n            tile_layer_e34d688c13ad3129176993466b8423d2.addTo(map_fae04cc8c167962a55041ed50103fd0c);\n        \n    \n            var marker_0cc38238eab66896c91c3e42f9d3206d = L.marker(\n                [28.3922, -80.6077],\n                {\n}\n            ).addTo(map_fae04cc8c167962a55041ed50103fd0c);\n        \n    \n            var icon_ff4d0649b1782eaaa076c7c60213508f = L.AwesomeMarkers.icon(\n                {\n  &quot;markerColor&quot;: &quot;blue&quot;,\n  &quot;iconColor&quot;: &quot;white&quot;,\n  &quot;icon&quot;: &quot;info-sign&quot;,\n  &quot;prefix&quot;: &quot;glyphicon&quot;,\n  &quot;extraClasses&quot;: &quot;fa-rotate-0&quot;,\n}\n            );\n        \n    \n        var popup_8be509f5c804ebb43a4e9efe25bb280a = L.popup({\n  &quot;maxWidth&quot;: &quot;100%&quot;,\n});\n\n        \n            \n                var html_ef6ed575ced6743794d52ac2b522640b = $(`&lt;div id=&quot;html_ef6ed575ced6743794d52ac2b522640b&quot; style=&quot;width: 100.0%; height: 100.0%;&quot;&gt;Launch Site&lt;/div&gt;`)[0];\n                popup_8be509f5c804ebb43a4e9efe25bb280a.setContent(html_ef6ed575ced6743794d52ac2b522640b);\n            \n        \n\n        marker_0cc38238eab66896c91c3e42f9d3206d.bindPopup(popup_8be509f5c804ebb43a4e9efe25bb280a)\n        ;\n\n        \n    \n    \n                marker_0cc38238eab66896c91c3e42f9d3206d.setIcon(icon_ff4d0649b1782eaaa076c7c60213508f);\n            \n    \n            var marker_608fe0036884211603eb9f6d0f1e34ea = L.marker(\n                [28.56321, -80.56801],\n                {\n}\n            ).addTo(map_fae04cc8c167962a55041ed50103fd0c);\n        \n    \n            var div_icon_29cfa9ed7980b4e6080b4cb9fd7181cb = L.divIcon({\n  &quot;html&quot;: &quot;\\u003cdiv style=\\&quot;font-size:12px; color:#222; font-weight:bold; width:200px;\\&quot;\\u003eCoastline 19.41 km\\u003c/div\\u003e&quot;,\n  &quot;iconSize&quot;: [20, 20],\n  &quot;iconAnchor&quot;: [100, -10],\n  &quot;className&quot;: &quot;empty&quot;,\n});\n            marker_608fe0036884211603eb9f6d0f1e34ea.setIcon(div_icon_29cfa9ed7980b4e6080b4cb9fd7181cb);\n        \n    \n                marker_608fe0036884211603eb9f6d0f1e34ea.setIcon(div_icon_29cfa9ed7980b4e6080b4cb9fd7181cb);\n            \n&lt;/script&gt;\n&lt;/html&gt;\" style=\"position:absolute;width:100%;height:100%;left:0;top:0;border:none !important;\" allowfullscreen webkitallowfullscreen mozallowfullscreen></iframe></div></div>"
          },
          "metadata": {}
        }
      ],
      "execution_count": 28
    },
    {
      "cell_type": "code",
      "source": "# Create and add a folium.Marker on your selected closest coastline point on the map\nrail_line_lat = 28.57209\nrail_line_lon = -80.58520\ndistance_rail_line = calculate_distance(launch_site_lat, launch_site_lon, rail_line_lat, rail_line_lon)\nprint(f'Distance to Rail Line: {round(distance_rail_line,2)} km')\n\n# Create and add a folium.Marker on the selected point on the map\ndistance_marker = folium.Marker(\n    [rail_line_lat, rail_line_lon],\n    icon=DivIcon(\n        icon_size=(20,20),\n        icon_anchor=(-40,-20),\n        html=f'<div style=\"font-size:12px; color:#222; font-weight:bold; width:200px;\">Rail Line {round(distance_rail_line,2)} km</div>',\n        )\n    ).add_to(launch_site_map)",
      "metadata": {
        "trusted": true
      },
      "outputs": [
        {
          "name": "stdout",
          "text": "Distance to Rail Line: 20.12 km\n",
          "output_type": "stream"
        }
      ],
      "execution_count": 29
    },
    {
      "cell_type": "markdown",
      "source": "*TODO:* Draw a `PolyLine` between a launch site to the selected coastline point\n",
      "metadata": {}
    },
    {
      "cell_type": "code",
      "source": "# Create a `folium.PolyLine` object using the coastline coordinates and launch site coordinate\n# lines=folium.PolyLine(locations=coordinates, weight=1)\nimport folium\nfrom folium import DivIcon\n\n# Define coordinates for the launch site and other locations (coastline, rail, road)\nlaunch_site_lat = 28.3922\nlaunch_site_lon = -80.6077\n\ncoastline_lat = 28.56321\ncoastline_lon = -80.56801\n\n# Example coordinates for the rail line and road\nrail_line_lat = 28.4221\nrail_line_lon = -80.6002\n\nroad_lat = 28.4304\nroad_lon = -80.5801\n\n# Colors for the lines\nlaunch_site_map_circle_colors = ['blue', 'green', 'red']  # You can define any color scheme you prefer\n\n# Create the map centered around the launch site\nlaunch_site_map = folium.Map(location=[launch_site_lat, launch_site_lon], zoom_start=12)\n\n# Add markers for the launch site and coastline\nfolium.Marker([launch_site_lat, launch_site_lon], popup=\"Launch Site\", icon=folium.Icon(color='blue')).add_to(launch_site_map)\nfolium.Marker([coastline_lat, coastline_lon], popup=\"Coastline\", icon=folium.Icon(color='green')).add_to(launch_site_map)\n\n# Coordinates for the PolyLine (Line between points)\ncoastline_coordinates = [(launch_site_lat, launch_site_lon), (coastline_lat, coastline_lon)]\nrail_line_coordinates = [(launch_site_lat, launch_site_lon), (rail_line_lat, rail_line_lon)]\nroad_coordinates = [(launch_site_lat, launch_site_lon), (road_lat, road_lon)]\n\n# Create PolyLine objects for coastline, rail line, and road\ncoastline_line = folium.PolyLine(locations=coastline_coordinates, weight=2, color=launch_site_map_circle_colors[0]).add_to(launch_site_map)\nrail_line = folium.PolyLine(locations=rail_line_coordinates, weight=2, color=launch_site_map_circle_colors[1]).add_to(launch_site_map)\nroad_line = folium.PolyLine(locations=road_coordinates, weight=2, color=launch_site_map_circle_colors[2]).add_to(launch_site_map)\n\n# Display the map\nlaunch_site_map\n",
      "metadata": {
        "trusted": true
      },
      "outputs": [
        {
          "execution_count": 32,
          "output_type": "execute_result",
          "data": {
            "text/plain": "<folium.folium.Map at 0x5d5d418>",
            "text/html": "<div style=\"width:100%;\"><div style=\"position:relative;width:100%;height:0;padding-bottom:60%;\"><span style=\"color:#565656\">Make this Notebook Trusted to load map: File -> Trust Notebook</span><iframe srcdoc=\"&lt;!DOCTYPE html&gt;\n&lt;html&gt;\n&lt;head&gt;\n    \n    &lt;meta http-equiv=&quot;content-type&quot; content=&quot;text/html; charset=UTF-8&quot; /&gt;\n    \n        &lt;script&gt;\n            L_NO_TOUCH = false;\n            L_DISABLE_3D = false;\n        &lt;/script&gt;\n    \n    &lt;style&gt;html, body {width: 100%;height: 100%;margin: 0;padding: 0;}&lt;/style&gt;\n    &lt;style&gt;#map {position:absolute;top:0;bottom:0;right:0;left:0;}&lt;/style&gt;\n    &lt;script src=&quot;https://cdn.jsdelivr.net/npm/leaflet@1.9.3/dist/leaflet.js&quot;&gt;&lt;/script&gt;\n    &lt;script src=&quot;https://code.jquery.com/jquery-3.7.1.min.js&quot;&gt;&lt;/script&gt;\n    &lt;script src=&quot;https://cdn.jsdelivr.net/npm/bootstrap@5.2.2/dist/js/bootstrap.bundle.min.js&quot;&gt;&lt;/script&gt;\n    &lt;script src=&quot;https://cdnjs.cloudflare.com/ajax/libs/Leaflet.awesome-markers/2.0.2/leaflet.awesome-markers.js&quot;&gt;&lt;/script&gt;\n    &lt;link rel=&quot;stylesheet&quot; href=&quot;https://cdn.jsdelivr.net/npm/leaflet@1.9.3/dist/leaflet.css&quot;/&gt;\n    &lt;link rel=&quot;stylesheet&quot; href=&quot;https://cdn.jsdelivr.net/npm/bootstrap@5.2.2/dist/css/bootstrap.min.css&quot;/&gt;\n    &lt;link rel=&quot;stylesheet&quot; href=&quot;https://netdna.bootstrapcdn.com/bootstrap/3.0.0/css/bootstrap-glyphicons.css&quot;/&gt;\n    &lt;link rel=&quot;stylesheet&quot; href=&quot;https://cdn.jsdelivr.net/npm/@fortawesome/fontawesome-free@6.2.0/css/all.min.css&quot;/&gt;\n    &lt;link rel=&quot;stylesheet&quot; href=&quot;https://cdnjs.cloudflare.com/ajax/libs/Leaflet.awesome-markers/2.0.2/leaflet.awesome-markers.css&quot;/&gt;\n    &lt;link rel=&quot;stylesheet&quot; href=&quot;https://cdn.jsdelivr.net/gh/python-visualization/folium/folium/templates/leaflet.awesome.rotate.min.css&quot;/&gt;\n    \n            &lt;meta name=&quot;viewport&quot; content=&quot;width=device-width,\n                initial-scale=1.0, maximum-scale=1.0, user-scalable=no&quot; /&gt;\n            &lt;style&gt;\n                #map_7e9855c18239d15ef22beee8e24bb7b1 {\n                    position: relative;\n                    width: 100.0%;\n                    height: 100.0%;\n                    left: 0.0%;\n                    top: 0.0%;\n                }\n                .leaflet-container { font-size: 1rem; }\n            &lt;/style&gt;\n        \n&lt;/head&gt;\n&lt;body&gt;\n    \n    \n            &lt;div class=&quot;folium-map&quot; id=&quot;map_7e9855c18239d15ef22beee8e24bb7b1&quot; &gt;&lt;/div&gt;\n        \n&lt;/body&gt;\n&lt;script&gt;\n    \n    \n            var map_7e9855c18239d15ef22beee8e24bb7b1 = L.map(\n                &quot;map_7e9855c18239d15ef22beee8e24bb7b1&quot;,\n                {\n                    center: [28.3922, -80.6077],\n                    crs: L.CRS.EPSG3857,\n                    ...{\n  &quot;zoom&quot;: 12,\n  &quot;zoomControl&quot;: true,\n  &quot;preferCanvas&quot;: false,\n}\n\n                }\n            );\n\n            \n\n        \n    \n            var tile_layer_f2f4240891d62cad6a42d9fc30ccc689 = L.tileLayer(\n                &quot;https://tile.openstreetmap.org/{z}/{x}/{y}.png&quot;,\n                {\n  &quot;minZoom&quot;: 0,\n  &quot;maxZoom&quot;: 19,\n  &quot;maxNativeZoom&quot;: 19,\n  &quot;noWrap&quot;: false,\n  &quot;attribution&quot;: &quot;\\u0026copy; \\u003ca href=\\&quot;https://www.openstreetmap.org/copyright\\&quot;\\u003eOpenStreetMap\\u003c/a\\u003e contributors&quot;,\n  &quot;subdomains&quot;: &quot;abc&quot;,\n  &quot;detectRetina&quot;: false,\n  &quot;tms&quot;: false,\n  &quot;opacity&quot;: 1,\n}\n\n            );\n        \n    \n            tile_layer_f2f4240891d62cad6a42d9fc30ccc689.addTo(map_7e9855c18239d15ef22beee8e24bb7b1);\n        \n    \n            var marker_5108f3f534af92094847c28e360f05ae = L.marker(\n                [28.3922, -80.6077],\n                {\n}\n            ).addTo(map_7e9855c18239d15ef22beee8e24bb7b1);\n        \n    \n            var icon_ef0c23167f4e6defa5287faee5da01d8 = L.AwesomeMarkers.icon(\n                {\n  &quot;markerColor&quot;: &quot;blue&quot;,\n  &quot;iconColor&quot;: &quot;white&quot;,\n  &quot;icon&quot;: &quot;info-sign&quot;,\n  &quot;prefix&quot;: &quot;glyphicon&quot;,\n  &quot;extraClasses&quot;: &quot;fa-rotate-0&quot;,\n}\n            );\n        \n    \n        var popup_30d7c3bd63fdc93c7b44a319d7acf62f = L.popup({\n  &quot;maxWidth&quot;: &quot;100%&quot;,\n});\n\n        \n            \n                var html_810c9381ac51994470ea2cc7531237bf = $(`&lt;div id=&quot;html_810c9381ac51994470ea2cc7531237bf&quot; style=&quot;width: 100.0%; height: 100.0%;&quot;&gt;Launch Site&lt;/div&gt;`)[0];\n                popup_30d7c3bd63fdc93c7b44a319d7acf62f.setContent(html_810c9381ac51994470ea2cc7531237bf);\n            \n        \n\n        marker_5108f3f534af92094847c28e360f05ae.bindPopup(popup_30d7c3bd63fdc93c7b44a319d7acf62f)\n        ;\n\n        \n    \n    \n                marker_5108f3f534af92094847c28e360f05ae.setIcon(icon_ef0c23167f4e6defa5287faee5da01d8);\n            \n    \n            var marker_b3c993f086b8ba57e10e6c26267f0320 = L.marker(\n                [28.56321, -80.56801],\n                {\n}\n            ).addTo(map_7e9855c18239d15ef22beee8e24bb7b1);\n        \n    \n            var icon_96ea338324ff898e241e55f8015ae063 = L.AwesomeMarkers.icon(\n                {\n  &quot;markerColor&quot;: &quot;green&quot;,\n  &quot;iconColor&quot;: &quot;white&quot;,\n  &quot;icon&quot;: &quot;info-sign&quot;,\n  &quot;prefix&quot;: &quot;glyphicon&quot;,\n  &quot;extraClasses&quot;: &quot;fa-rotate-0&quot;,\n}\n            );\n        \n    \n        var popup_f138718fdc2713155a0b2beee88ff881 = L.popup({\n  &quot;maxWidth&quot;: &quot;100%&quot;,\n});\n\n        \n            \n                var html_e7e745b8fd6208c0f5b2c5688fb2a3a7 = $(`&lt;div id=&quot;html_e7e745b8fd6208c0f5b2c5688fb2a3a7&quot; style=&quot;width: 100.0%; height: 100.0%;&quot;&gt;Coastline&lt;/div&gt;`)[0];\n                popup_f138718fdc2713155a0b2beee88ff881.setContent(html_e7e745b8fd6208c0f5b2c5688fb2a3a7);\n            \n        \n\n        marker_b3c993f086b8ba57e10e6c26267f0320.bindPopup(popup_f138718fdc2713155a0b2beee88ff881)\n        ;\n\n        \n    \n    \n                marker_b3c993f086b8ba57e10e6c26267f0320.setIcon(icon_96ea338324ff898e241e55f8015ae063);\n            \n    \n            var poly_line_817d70498c41f13c280265be370a563a = L.polyline(\n                [[28.3922, -80.6077], [28.56321, -80.56801]],\n                {&quot;bubblingMouseEvents&quot;: true, &quot;color&quot;: &quot;blue&quot;, &quot;dashArray&quot;: null, &quot;dashOffset&quot;: null, &quot;fill&quot;: false, &quot;fillColor&quot;: &quot;blue&quot;, &quot;fillOpacity&quot;: 0.2, &quot;fillRule&quot;: &quot;evenodd&quot;, &quot;lineCap&quot;: &quot;round&quot;, &quot;lineJoin&quot;: &quot;round&quot;, &quot;noClip&quot;: false, &quot;opacity&quot;: 1.0, &quot;smoothFactor&quot;: 1.0, &quot;stroke&quot;: true, &quot;weight&quot;: 2}\n            ).addTo(map_7e9855c18239d15ef22beee8e24bb7b1);\n        \n    \n            var poly_line_430d80a5a96fa7d1e4da0a7427c7d625 = L.polyline(\n                [[28.3922, -80.6077], [28.4221, -80.6002]],\n                {&quot;bubblingMouseEvents&quot;: true, &quot;color&quot;: &quot;green&quot;, &quot;dashArray&quot;: null, &quot;dashOffset&quot;: null, &quot;fill&quot;: false, &quot;fillColor&quot;: &quot;green&quot;, &quot;fillOpacity&quot;: 0.2, &quot;fillRule&quot;: &quot;evenodd&quot;, &quot;lineCap&quot;: &quot;round&quot;, &quot;lineJoin&quot;: &quot;round&quot;, &quot;noClip&quot;: false, &quot;opacity&quot;: 1.0, &quot;smoothFactor&quot;: 1.0, &quot;stroke&quot;: true, &quot;weight&quot;: 2}\n            ).addTo(map_7e9855c18239d15ef22beee8e24bb7b1);\n        \n    \n            var poly_line_ea946b59370bb1058ba1baf260f27acf = L.polyline(\n                [[28.3922, -80.6077], [28.4304, -80.5801]],\n                {&quot;bubblingMouseEvents&quot;: true, &quot;color&quot;: &quot;red&quot;, &quot;dashArray&quot;: null, &quot;dashOffset&quot;: null, &quot;fill&quot;: false, &quot;fillColor&quot;: &quot;red&quot;, &quot;fillOpacity&quot;: 0.2, &quot;fillRule&quot;: &quot;evenodd&quot;, &quot;lineCap&quot;: &quot;round&quot;, &quot;lineJoin&quot;: &quot;round&quot;, &quot;noClip&quot;: false, &quot;opacity&quot;: 1.0, &quot;smoothFactor&quot;: 1.0, &quot;stroke&quot;: true, &quot;weight&quot;: 2}\n            ).addTo(map_7e9855c18239d15ef22beee8e24bb7b1);\n        \n&lt;/script&gt;\n&lt;/html&gt;\" style=\"position:absolute;width:100%;height:100%;left:0;top:0;border:none !important;\" allowfullscreen webkitallowfullscreen mozallowfullscreen></iframe></div></div>"
          },
          "metadata": {}
        }
      ],
      "execution_count": 32
    },
    {
      "cell_type": "markdown",
      "source": "Your updated map with distance line should look like the following screenshot:\n",
      "metadata": {}
    },
    {
      "cell_type": "markdown",
      "source": "<center>\n    <img src=\"https://cf-courses-data.s3.us.cloud-object-storage.appdomain.cloud/IBM-DS0321EN-SkillsNetwork/labs/module_3/images/launch_site_marker_distance.png\">\n</center>\n",
      "metadata": {}
    },
    {
      "cell_type": "markdown",
      "source": "*TODO:* Similarly, you can draw a line betwee a launch site to its closest city, railway, highway, etc. You need to use `MousePosition` to find the their coordinates on the map first\n",
      "metadata": {}
    },
    {
      "cell_type": "markdown",
      "source": "A railway map symbol may look like this:\n",
      "metadata": {}
    },
    {
      "cell_type": "markdown",
      "source": "<center>\n    <img src=\"https://cf-courses-data.s3.us.cloud-object-storage.appdomain.cloud/IBM-DS0321EN-SkillsNetwork/labs/module_3/images/railway.png\">\n</center>\n",
      "metadata": {}
    },
    {
      "cell_type": "markdown",
      "source": "A highway map symbol may look like this:\n",
      "metadata": {}
    },
    {
      "cell_type": "markdown",
      "source": "<center>\n    <img src=\"https://cf-courses-data.s3.us.cloud-object-storage.appdomain.cloud/IBM-DS0321EN-SkillsNetwork/labs/module_3/images/highway.png\">\n</center>\n",
      "metadata": {}
    },
    {
      "cell_type": "markdown",
      "source": "A city map symbol may look like this:\n",
      "metadata": {}
    },
    {
      "cell_type": "markdown",
      "source": "<center>\n    <img src=\"https://cf-courses-data.s3.us.cloud-object-storage.appdomain.cloud/IBM-DS0321EN-SkillsNetwork/labs/module_3/images/city.png\">\n</center>\n",
      "metadata": {}
    },
    {
      "cell_type": "code",
      "source": "# Create a marker with distance to a closest city, railway, highway, etc.\n# Draw a line between the marker to the launch site\nimport folium\nfrom math import radians, sin, cos, sqrt, atan2\n\n# Function to calculate distance using the Haversine formula\ndef haversine(lat1, lon1, lat2, lon2):\n    # Radius of the Earth in kilometers\n    R = 6371.0\n    \n    # Convert latitude and longitude from degrees to radians\n    lat1, lon1, lat2, lon2 = map(radians, [lat1, lon1, lat2, lon2])\n    \n    # Difference in coordinates\n    dlat = lat2 - lat1\n    dlon = lon2 - lon1\n    \n    # Haversine formula\n    a = sin(dlat / 2)**2 + cos(lat1) * cos(lat2) * sin(dlon / 2)**2\n    c = 2 * atan2(sqrt(a), sqrt(1 - a))\n    \n    # Distance in kilometers\n    distance = R * c\n    return distance\n\n# Coordinates of the launch site and the closest city/railway/highway\nlaunch_site_lat = 28.3922\nlaunch_site_lon = -80.6077\ncity_lat = 28.5447  # Example latitude of the closest city\ncity_lon = -80.6480  # Example longitude of the closest city\n\n# Calculate the distance between the launch site and the closest city using the haversine function\ndistance_city = haversine(launch_site_lat, launch_site_lon, city_lat, city_lon)\n\n# Create a folium map centered on the launch site\nlaunch_site_map = folium.Map(location=[launch_site_lat, launch_site_lon], zoom_start=10)\n\n# Add a marker for the launch site\nfolium.Marker(\n    [launch_site_lat, launch_site_lon],\n    popup=\"Launch Site\",\n    icon=folium.Icon(color='blue')\n).add_to(launch_site_map)\n\n# Create a polyline (line) between the launch site and the city\nline_coordinates = [(launch_site_lat, launch_site_lon), (city_lat, city_lon)]\nfolium.PolyLine(locations=line_coordinates, color='red', weight=2).add_to(launch_site_map)\n\n# Add a marker for the closest city\nfolium.Marker(\n    [city_lat, city_lon],\n    popup=f\"City - {round(distance_city, 2)} km\",\n    icon=folium.DivIcon(icon_size=(20, 20), icon_anchor=(0, 0), html=f'<div>{round(distance_city, 2)} km</div>')\n).add_to(launch_site_map)\n\n# Display the map\nlaunch_site_map.save(\"launch_site_map.html\")\n",
      "metadata": {
        "trusted": true
      },
      "outputs": [],
      "execution_count": 34
    },
    {
      "cell_type": "markdown",
      "source": "After you plot distance lines to the proximities, you can answer the following questions easily:\n\n*   Are launch sites in close proximity to railways?\n*   Are launch sites in close proximity to highways?\n*   Are launch sites in close proximity to coastline?\n*   Do launch sites keep certain distance away from cities?\n\nAlso please try to explain your findings.\n",
      "metadata": {}
    },
    {
      "cell_type": "markdown",
      "source": "# Next Steps:\n\nNow you have discovered many interesting insights related to the launch sites' location using folium, in a very interactive way. Next, you will need to build a dashboard using Ploty Dash on detailed launch records.\n",
      "metadata": {}
    },
    {
      "cell_type": "code",
      "source": "Create Dashboard with Plotly Dash",
      "metadata": {
        "trusted": true
      },
      "outputs": [],
      "execution_count": null
    },
    {
      "cell_type": "code",
      "source": "Python File Code:\nspacex-dash-app.py",
      "metadata": {
        "trusted": true
      },
      "outputs": [],
      "execution_count": null
    },
    {
      "cell_type": "code",
      "source": "# Import required libraries\nimport pandas as pd\nimport dash\nfrom dash import html\nfrom dash import dcc\nfrom dash.dependencies import Input, Output\nimport plotly.express as px\n\n# Read the airline data into pandas dataframe\nspacex_df = pd.read_csv(\"spacex_launch_dash.csv\")\nmax_payload = spacex_df['Payload Mass (kg)'].max()\nmin_payload = spacex_df['Payload Mass (kg)'].min()\n\n# Create a dash application\napp = dash.Dash(__name__)\n\n# List of launch sites for the dropdown\nlaunch_sites = spacex_df['Launch Site'].unique()\n\n\n# Create an app layout\napp.layout = html.Div(children=[html.H1('SpaceX Launch Records Dashboard',\n                                        style={'textAlign': 'center', 'color': '#503D36',\n                                               'font-size': 40}),\n                                # TASK 1: Add a dropdown list to enable Launch Site selection\n                                # The default select value is for ALL sites\n                               dcc.Dropdown(id='site-dropdown',\n                 options=[{'label': site, 'value': site} for site in launch_sites] + [{'label': 'All Sites', 'value': 'ALL'}],\n                 value='ALL',\n                 placeholder=\"Select a Launch Site\",\n                 searchable=True),\n    html.Br(),,\n\n                                # TASK 2: Add a pie chart to show the total successful launches count for all sites\n                                # If a specific launch site was selected, show the Success vs. Failed counts for the site\n                                html.Div(dcc.Graph(id='success-pie-chart')),\n    html.Br(),\n\n    html.P(\"Payload range (Kg):\"),\n                                # TASK 3: Add a slider to select payload range\n                                dcc.RangeSlider(id='payload-slider',\n                    min=min_payload,\n                    max=max_payload,\n                    step=100,\n                    marks={i: str(i) for i in range(int(min_payload), int(max_payload)+1, 1000)},\n                    value=[min_payload, max_payload]),\n\n                                # TASK 4: Add a scatter chart to show the correlation between payload and launch success\n                                html.Div(dcc.Graph(id='success-payload-scatter-chart')),\n])\n\n# TASK 2:\n# Add a callback function for `site-dropdown` as input, `success-pie-chart` as output\n@app.callback(\n    Output('success-pie-chart', 'figure'),\n    [Input('site-dropdown', 'value')]\n)\ndef update_pie_chart(selected_site):\n    if selected_site == 'ALL':\n        filtered_df = spacex_df\n    else:\n        filtered_df = spacex_df[spacex_df['Launch Site'] == selected_site]\n\n    success_counts = filtered_df.groupby('class')['class'].count()\n    fig = px.pie(values=success_counts, names=['Failed', 'Successful'], title=f'Success vs Failure for {selected_site}')\n    return fig\n# TASK 4:\n# Add a callback function for `site-dropdown` and `payload-slider` as inputs, `success-payload-scatter-chart` as output\n@app.callback(\n    Output('success-payload-scatter-chart', 'figure'),\n    [Input('site-dropdown', 'value'),\n     Input('payload-slider', 'value')]\n)\ndef update_scatter_chart(selected_site, payload_range):\n    min_payload, max_payload = payload_range\n    filtered_df = spacex_df[(spacex_df['Payload Mass (kg)'] >= min_payload) & (spacex_df['Payload Mass (kg)'] <= max_payload)]\n    \n    if selected_site != 'ALL':\n        filtered_df = filtered_df[filtered_df['Launch Site'] == selected_site]\n\n    fig = px.scatter(filtered_df, x='Payload Mass (kg)', y='class',\n                     color='Launch Site', title=f'Payload vs. Success for {selected_site}')\n    fig.update_layout(yaxis={'tickvals': [0, 1], 'ticktext': ['Failed', 'Successful']})\n    return fig\n\n# Run the app\nif __name__ == '__main__':\n    app.run()\n",
      "metadata": {
        "trusted": true
      },
      "outputs": [],
      "execution_count": null
    },
    {
      "cell_type": "markdown",
      "source": "## Authors\n",
      "metadata": {}
    },
    {
      "cell_type": "markdown",
      "source": "[Pratiksha Verma](https://www.linkedin.com/in/pratiksha-verma-6487561b1/)\n",
      "metadata": {}
    },
    {
      "cell_type": "markdown",
      "source": "<!--## Change Log--!>\n",
      "metadata": {}
    },
    {
      "cell_type": "markdown",
      "source": "<!--| Date (YYYY-MM-DD) | Version | Changed By      | Change Description      |\n| ----------------- | ------- | -------------   | ----------------------- |\n| 2022-11-09        | 1.0     | Pratiksha Verma | Converted initial version to Jupyterlite|--!>\n",
      "metadata": {}
    },
    {
      "cell_type": "markdown",
      "source": "### <h3 align=\"center\"> IBM Corporation 2022. All rights reserved. <h3/>\n",
      "metadata": {}
    }
  ]
}